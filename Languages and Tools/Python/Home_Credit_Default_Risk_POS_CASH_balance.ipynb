{
  "nbformat": 4,
  "nbformat_minor": 0,
  "metadata": {
    "colab": {
      "name": "Home Credit Default Risk - POS_CASH_balance.ipynb",
      "provenance": [],
      "collapsed_sections": []
    },
    "kernelspec": {
      "name": "python3",
      "display_name": "Python 3"
    },
    "language_info": {
      "name": "python"
    }
  },
  "cells": [
    {
      "cell_type": "markdown",
      "source": [
        "# Home Credit Default Risk"
      ],
      "metadata": {
        "id": "KLW6RTcFO_Ks"
      }
    },
    {
      "cell_type": "markdown",
      "source": [
        "## Import libraries"
      ],
      "metadata": {
        "id": "3p8NlKmGP3-L"
      }
    },
    {
      "cell_type": "code",
      "execution_count": 2,
      "metadata": {
        "id": "YWKL0kyAwRK9"
      },
      "outputs": [],
      "source": [
        "import warnings\n",
        "import json\n",
        "import sys\n",
        "import csv\n",
        "import os\n",
        "\n",
        "import pandas as pd\n",
        "\n",
        "import matplotlib as mpl\n",
        "import matplotlib.pyplot as plt\n",
        "import seaborn as sns\n",
        "\n",
        "import scipy\n",
        "import numpy as np\n",
        "np.random.seed(1612)"
      ]
    },
    {
      "cell_type": "code",
      "source": [
        "from google.colab import drive\n",
        "drive.mount('/content/drive')"
      ],
      "metadata": {
        "colab": {
          "base_uri": "https://localhost:8080/"
        },
        "id": "c1k_ilvSwZrw",
        "outputId": "86deec20-06c2-437e-928b-583552e94945"
      },
      "execution_count": 3,
      "outputs": [
        {
          "output_type": "stream",
          "name": "stdout",
          "text": [
            "Drive already mounted at /content/drive; to attempt to forcibly remount, call drive.mount(\"/content/drive\", force_remount=True).\n"
          ]
        }
      ]
    },
    {
      "cell_type": "markdown",
      "source": [
        "## Import dataset"
      ],
      "metadata": {
        "id": "rN9kpM6CP8Ba"
      }
    },
    {
      "cell_type": "code",
      "source": [
        "home_credit_POS_CASH_balance = pd.read_csv('/content/drive/My Drive/Colab Notebooks/Projects/Home Credit Default Risk/POS_CASH_balance.csv') "
      ],
      "metadata": {
        "id": "imwi-uZZwZo5"
      },
      "execution_count": 4,
      "outputs": []
    },
    {
      "cell_type": "markdown",
      "source": [
        "## Data Analysis"
      ],
      "metadata": {
        "id": "8B3lvFkaP_4c"
      }
    },
    {
      "cell_type": "markdown",
      "source": [
        "### Check types"
      ],
      "metadata": {
        "id": "KiLYcxmWQCLO"
      }
    },
    {
      "cell_type": "code",
      "source": [
        "home_credit_POS_CASH_balance.dtypes"
      ],
      "metadata": {
        "colab": {
          "base_uri": "https://localhost:8080/"
        },
        "id": "zTq7lDeT_4sp",
        "outputId": "c060adb3-ef1a-4e07-f86b-55f8225e36ac"
      },
      "execution_count": 5,
      "outputs": [
        {
          "output_type": "execute_result",
          "data": {
            "text/plain": [
              "SK_ID_PREV                 int64\n",
              "SK_ID_CURR                 int64\n",
              "MONTHS_BALANCE             int64\n",
              "CNT_INSTALMENT           float64\n",
              "CNT_INSTALMENT_FUTURE    float64\n",
              "NAME_CONTRACT_STATUS      object\n",
              "SK_DPD                     int64\n",
              "SK_DPD_DEF                 int64\n",
              "dtype: object"
            ]
          },
          "metadata": {},
          "execution_count": 5
        }
      ]
    },
    {
      "cell_type": "code",
      "source": [
        "home_credit_POS_CASH_balance['SK_ID_PREV'].unique()"
      ],
      "metadata": {
        "colab": {
          "base_uri": "https://localhost:8080/"
        },
        "id": "nA-yjNURS7PQ",
        "outputId": "f263b184-73e3-461c-a83e-2410c8d02f63"
      },
      "execution_count": 6,
      "outputs": [
        {
          "output_type": "execute_result",
          "data": {
            "text/plain": [
              "array([1803195, 1715348, 1784872, ..., 2452932, 1980876, 2308284])"
            ]
          },
          "metadata": {},
          "execution_count": 6
        }
      ]
    },
    {
      "cell_type": "code",
      "source": [
        "home_credit_POS_CASH_balance['SK_ID_CURR'].unique()"
      ],
      "metadata": {
        "colab": {
          "base_uri": "https://localhost:8080/"
        },
        "id": "f2cS3pAuTKw1",
        "outputId": "bf575ba8-7e70-4c61-bc82-e776dc7e9278"
      },
      "execution_count": 7,
      "outputs": [
        {
          "output_type": "execute_result",
          "data": {
            "text/plain": [
              "array([182943, 367990, 397406, ..., 394310, 240059, 144536])"
            ]
          },
          "metadata": {},
          "execution_count": 7
        }
      ]
    },
    {
      "cell_type": "code",
      "source": [
        "home_credit_POS_CASH_balance['MONTHS_BALANCE'].unique()"
      ],
      "metadata": {
        "colab": {
          "base_uri": "https://localhost:8080/"
        },
        "id": "kHbe4_LHTKra",
        "outputId": "4383b1b0-14dd-4d0a-bd08-04a74d3a4d1f"
      },
      "execution_count": 8,
      "outputs": [
        {
          "output_type": "execute_result",
          "data": {
            "text/plain": [
              "array([-31, -33, -32, -35, -38, -39, -34, -41, -37, -40, -43, -36, -42,\n",
              "       -47, -44, -46, -45, -27, -25, -24, -30, -28, -26, -29, -48, -15,\n",
              "       -19, -22, -14, -18, -16, -21, -17, -20, -23,  -1,  -6,  -2,  -3,\n",
              "        -5,  -4, -13, -11, -10,  -9,  -7,  -8, -54, -49, -52, -53, -50,\n",
              "       -51, -55, -12, -94, -95, -92, -91, -96, -93, -57, -64, -56, -59,\n",
              "       -60, -66, -65, -58, -63, -62, -61, -87, -86, -88, -89, -90, -72,\n",
              "       -74, -73, -82, -78, -81, -75, -77, -80, -76, -79, -69, -70, -71,\n",
              "       -68, -67, -83, -85, -84])"
            ]
          },
          "metadata": {},
          "execution_count": 8
        }
      ]
    },
    {
      "cell_type": "code",
      "source": [
        "home_credit_POS_CASH_balance['CNT_INSTALMENT'].unique()"
      ],
      "metadata": {
        "colab": {
          "base_uri": "https://localhost:8080/"
        },
        "id": "__lTPMqcTKpu",
        "outputId": "b4aa9175-350b-46de-dd43-3a8ec146ce96"
      },
      "execution_count": 9,
      "outputs": [
        {
          "output_type": "execute_result",
          "data": {
            "text/plain": [
              "array([48., 36., 12., 24., 60., 18.,  4., 42., 25., 14., 16., 13.,  8.,\n",
              "       10., 15., 11., 30., 54.,  6.,  9.,  5., 17.,  3.,  2., 20., 32.,\n",
              "       nan,  1.,  7., 47., 49., 28., 43., 23., 21., 19., 39., 37., 35.,\n",
              "       27., 22., 41., 31., 61., 26., 34., 29., 44., 55., 33., 66., 46.,\n",
              "       59., 38., 72., 40., 57., 45., 92., 56., 84., 51., 52., 58., 62.,\n",
              "       53., 64., 50., 77., 70., 81., 63., 71., 68.])"
            ]
          },
          "metadata": {},
          "execution_count": 9
        }
      ]
    },
    {
      "cell_type": "code",
      "source": [
        "home_credit_POS_CASH_balance['CNT_INSTALMENT_FUTURE'].unique()"
      ],
      "metadata": {
        "colab": {
          "base_uri": "https://localhost:8080/"
        },
        "id": "uLzdo3gaTKiY",
        "outputId": "cd736c0d-9cfb-4a7b-b646-aef3a82ca099"
      },
      "execution_count": 10,
      "outputs": [
        {
          "output_type": "execute_result",
          "data": {
            "text/plain": [
              "array([45., 35.,  9., 42., 12., 43., 36., 16., 24.,  5., 15.,  1., 28.,\n",
              "       23., 56., 11.,  7., 18., 17., 46., 21.,  0.,  4., 40., 32., 19.,\n",
              "        8., 10.,  2., 13., 14.,  3.,  6., 48., 22., 34., 47., 30., 29.,\n",
              "       41., 54., 20., 37., 31., 27., 26., nan, 25., 38., 33., 39., 53.,\n",
              "       58., 50., 51., 52., 55., 59., 57., 60., 49., 44., 61., 68., 66.,\n",
              "       70., 69., 64., 62., 63., 67., 85., 65., 80., 72., 82., 71., 83.,\n",
              "       81., 84.])"
            ]
          },
          "metadata": {},
          "execution_count": 10
        }
      ]
    },
    {
      "cell_type": "code",
      "source": [
        "home_credit_POS_CASH_balance['NAME_CONTRACT_STATUS'].unique()"
      ],
      "metadata": {
        "colab": {
          "base_uri": "https://localhost:8080/"
        },
        "id": "4wK399WnTMfM",
        "outputId": "bb292e70-4b50-427c-9706-b69fbc7b65f8"
      },
      "execution_count": 11,
      "outputs": [
        {
          "output_type": "execute_result",
          "data": {
            "text/plain": [
              "array(['Active', 'Completed', 'Signed', 'Approved',\n",
              "       'Returned to the store', 'Demand', 'Canceled', 'XNA',\n",
              "       'Amortized debt'], dtype=object)"
            ]
          },
          "metadata": {},
          "execution_count": 11
        }
      ]
    },
    {
      "cell_type": "code",
      "source": [
        "home_credit_POS_CASH_balance['SK_DPD'].unique()"
      ],
      "metadata": {
        "colab": {
          "base_uri": "https://localhost:8080/"
        },
        "id": "C8FazWfLTMcJ",
        "outputId": "219aa71a-444a-4616-a5b7-2d0ad086feee"
      },
      "execution_count": 12,
      "outputs": [
        {
          "output_type": "execute_result",
          "data": {
            "text/plain": [
              "array([   0,    1,    2, ..., 3989, 3716, 3082])"
            ]
          },
          "metadata": {},
          "execution_count": 12
        }
      ]
    },
    {
      "cell_type": "code",
      "source": [
        "home_credit_POS_CASH_balance['SK_DPD_DEF'].unique()"
      ],
      "metadata": {
        "colab": {
          "base_uri": "https://localhost:8080/"
        },
        "id": "ZxRpZyhhTW7K",
        "outputId": "4a850454-3aa6-43f4-ae43-e30416f3131b"
      },
      "execution_count": 13,
      "outputs": [
        {
          "output_type": "execute_result",
          "data": {
            "text/plain": [
              "array([   0,    1,    2, ..., 2806, 2376, 2495])"
            ]
          },
          "metadata": {},
          "execution_count": 13
        }
      ]
    },
    {
      "cell_type": "markdown",
      "source": [
        "Column | Quantitative (Numerical) / Qualitative (Categorical) | Ordinal / Nominal\n",
        "--|--|--\n",
        "SK_ID_PREV | Numerical | Nominal\n",
        "SK_ID_CURR | Numerical | Nominal\n",
        "MONTHS_BALANCE | Numerical | Nominal\n",
        "CNT_INSTALMENT | Numerical | Nominal\n",
        "CNT_INSTALMENT_FUTURE | Numerical | Nominal\n",
        "NAME_CONTRACT_STATUS | Categorical | Nominal\n",
        "SK_DPD | Numerical | Nominal\n",
        "SK_DPD_DEF | Numerical | Nominal"
      ],
      "metadata": {
        "id": "Wo0VIhBITeae"
      }
    },
    {
      "cell_type": "markdown",
      "source": [
        "## Description"
      ],
      "metadata": {
        "id": "S-w8da6nQHUt"
      }
    },
    {
      "cell_type": "code",
      "source": [
        "home_credit_POS_CASH_balance.describe()"
      ],
      "metadata": {
        "id": "iHTFPOoYwZl4",
        "colab": {
          "base_uri": "https://localhost:8080/",
          "height": 300
        },
        "outputId": "469a8c8f-e699-4cde-b2ce-fed3e1f7d035"
      },
      "execution_count": 14,
      "outputs": [
        {
          "output_type": "execute_result",
          "data": {
            "text/html": [
              "\n",
              "  <div id=\"df-93329925-b012-40ca-8d8f-b9a0876562f9\">\n",
              "    <div class=\"colab-df-container\">\n",
              "      <div>\n",
              "<style scoped>\n",
              "    .dataframe tbody tr th:only-of-type {\n",
              "        vertical-align: middle;\n",
              "    }\n",
              "\n",
              "    .dataframe tbody tr th {\n",
              "        vertical-align: top;\n",
              "    }\n",
              "\n",
              "    .dataframe thead th {\n",
              "        text-align: right;\n",
              "    }\n",
              "</style>\n",
              "<table border=\"1\" class=\"dataframe\">\n",
              "  <thead>\n",
              "    <tr style=\"text-align: right;\">\n",
              "      <th></th>\n",
              "      <th>SK_ID_PREV</th>\n",
              "      <th>SK_ID_CURR</th>\n",
              "      <th>MONTHS_BALANCE</th>\n",
              "      <th>CNT_INSTALMENT</th>\n",
              "      <th>CNT_INSTALMENT_FUTURE</th>\n",
              "      <th>SK_DPD</th>\n",
              "      <th>SK_DPD_DEF</th>\n",
              "    </tr>\n",
              "  </thead>\n",
              "  <tbody>\n",
              "    <tr>\n",
              "      <th>count</th>\n",
              "      <td>1.000136e+07</td>\n",
              "      <td>1.000136e+07</td>\n",
              "      <td>1.000136e+07</td>\n",
              "      <td>9.975287e+06</td>\n",
              "      <td>9.975271e+06</td>\n",
              "      <td>1.000136e+07</td>\n",
              "      <td>1.000136e+07</td>\n",
              "    </tr>\n",
              "    <tr>\n",
              "      <th>mean</th>\n",
              "      <td>1.903217e+06</td>\n",
              "      <td>2.784039e+05</td>\n",
              "      <td>-3.501259e+01</td>\n",
              "      <td>1.708965e+01</td>\n",
              "      <td>1.048384e+01</td>\n",
              "      <td>1.160693e+01</td>\n",
              "      <td>6.544684e-01</td>\n",
              "    </tr>\n",
              "    <tr>\n",
              "      <th>std</th>\n",
              "      <td>5.358465e+05</td>\n",
              "      <td>1.027637e+05</td>\n",
              "      <td>2.606657e+01</td>\n",
              "      <td>1.199506e+01</td>\n",
              "      <td>1.110906e+01</td>\n",
              "      <td>1.327140e+02</td>\n",
              "      <td>3.276249e+01</td>\n",
              "    </tr>\n",
              "    <tr>\n",
              "      <th>min</th>\n",
              "      <td>1.000001e+06</td>\n",
              "      <td>1.000010e+05</td>\n",
              "      <td>-9.600000e+01</td>\n",
              "      <td>1.000000e+00</td>\n",
              "      <td>0.000000e+00</td>\n",
              "      <td>0.000000e+00</td>\n",
              "      <td>0.000000e+00</td>\n",
              "    </tr>\n",
              "    <tr>\n",
              "      <th>25%</th>\n",
              "      <td>1.434405e+06</td>\n",
              "      <td>1.895500e+05</td>\n",
              "      <td>-5.400000e+01</td>\n",
              "      <td>1.000000e+01</td>\n",
              "      <td>3.000000e+00</td>\n",
              "      <td>0.000000e+00</td>\n",
              "      <td>0.000000e+00</td>\n",
              "    </tr>\n",
              "    <tr>\n",
              "      <th>50%</th>\n",
              "      <td>1.896565e+06</td>\n",
              "      <td>2.786540e+05</td>\n",
              "      <td>-2.800000e+01</td>\n",
              "      <td>1.200000e+01</td>\n",
              "      <td>7.000000e+00</td>\n",
              "      <td>0.000000e+00</td>\n",
              "      <td>0.000000e+00</td>\n",
              "    </tr>\n",
              "    <tr>\n",
              "      <th>75%</th>\n",
              "      <td>2.368963e+06</td>\n",
              "      <td>3.674290e+05</td>\n",
              "      <td>-1.300000e+01</td>\n",
              "      <td>2.400000e+01</td>\n",
              "      <td>1.400000e+01</td>\n",
              "      <td>0.000000e+00</td>\n",
              "      <td>0.000000e+00</td>\n",
              "    </tr>\n",
              "    <tr>\n",
              "      <th>max</th>\n",
              "      <td>2.843499e+06</td>\n",
              "      <td>4.562550e+05</td>\n",
              "      <td>-1.000000e+00</td>\n",
              "      <td>9.200000e+01</td>\n",
              "      <td>8.500000e+01</td>\n",
              "      <td>4.231000e+03</td>\n",
              "      <td>3.595000e+03</td>\n",
              "    </tr>\n",
              "  </tbody>\n",
              "</table>\n",
              "</div>\n",
              "      <button class=\"colab-df-convert\" onclick=\"convertToInteractive('df-93329925-b012-40ca-8d8f-b9a0876562f9')\"\n",
              "              title=\"Convert this dataframe to an interactive table.\"\n",
              "              style=\"display:none;\">\n",
              "        \n",
              "  <svg xmlns=\"http://www.w3.org/2000/svg\" height=\"24px\"viewBox=\"0 0 24 24\"\n",
              "       width=\"24px\">\n",
              "    <path d=\"M0 0h24v24H0V0z\" fill=\"none\"/>\n",
              "    <path d=\"M18.56 5.44l.94 2.06.94-2.06 2.06-.94-2.06-.94-.94-2.06-.94 2.06-2.06.94zm-11 1L8.5 8.5l.94-2.06 2.06-.94-2.06-.94L8.5 2.5l-.94 2.06-2.06.94zm10 10l.94 2.06.94-2.06 2.06-.94-2.06-.94-.94-2.06-.94 2.06-2.06.94z\"/><path d=\"M17.41 7.96l-1.37-1.37c-.4-.4-.92-.59-1.43-.59-.52 0-1.04.2-1.43.59L10.3 9.45l-7.72 7.72c-.78.78-.78 2.05 0 2.83L4 21.41c.39.39.9.59 1.41.59.51 0 1.02-.2 1.41-.59l7.78-7.78 2.81-2.81c.8-.78.8-2.07 0-2.86zM5.41 20L4 18.59l7.72-7.72 1.47 1.35L5.41 20z\"/>\n",
              "  </svg>\n",
              "      </button>\n",
              "      \n",
              "  <style>\n",
              "    .colab-df-container {\n",
              "      display:flex;\n",
              "      flex-wrap:wrap;\n",
              "      gap: 12px;\n",
              "    }\n",
              "\n",
              "    .colab-df-convert {\n",
              "      background-color: #E8F0FE;\n",
              "      border: none;\n",
              "      border-radius: 50%;\n",
              "      cursor: pointer;\n",
              "      display: none;\n",
              "      fill: #1967D2;\n",
              "      height: 32px;\n",
              "      padding: 0 0 0 0;\n",
              "      width: 32px;\n",
              "    }\n",
              "\n",
              "    .colab-df-convert:hover {\n",
              "      background-color: #E2EBFA;\n",
              "      box-shadow: 0px 1px 2px rgba(60, 64, 67, 0.3), 0px 1px 3px 1px rgba(60, 64, 67, 0.15);\n",
              "      fill: #174EA6;\n",
              "    }\n",
              "\n",
              "    [theme=dark] .colab-df-convert {\n",
              "      background-color: #3B4455;\n",
              "      fill: #D2E3FC;\n",
              "    }\n",
              "\n",
              "    [theme=dark] .colab-df-convert:hover {\n",
              "      background-color: #434B5C;\n",
              "      box-shadow: 0px 1px 3px 1px rgba(0, 0, 0, 0.15);\n",
              "      filter: drop-shadow(0px 1px 2px rgba(0, 0, 0, 0.3));\n",
              "      fill: #FFFFFF;\n",
              "    }\n",
              "  </style>\n",
              "\n",
              "      <script>\n",
              "        const buttonEl =\n",
              "          document.querySelector('#df-93329925-b012-40ca-8d8f-b9a0876562f9 button.colab-df-convert');\n",
              "        buttonEl.style.display =\n",
              "          google.colab.kernel.accessAllowed ? 'block' : 'none';\n",
              "\n",
              "        async function convertToInteractive(key) {\n",
              "          const element = document.querySelector('#df-93329925-b012-40ca-8d8f-b9a0876562f9');\n",
              "          const dataTable =\n",
              "            await google.colab.kernel.invokeFunction('convertToInteractive',\n",
              "                                                     [key], {});\n",
              "          if (!dataTable) return;\n",
              "\n",
              "          const docLinkHtml = 'Like what you see? Visit the ' +\n",
              "            '<a target=\"_blank\" href=https://colab.research.google.com/notebooks/data_table.ipynb>data table notebook</a>'\n",
              "            + ' to learn more about interactive tables.';\n",
              "          element.innerHTML = '';\n",
              "          dataTable['output_type'] = 'display_data';\n",
              "          await google.colab.output.renderOutput(dataTable, element);\n",
              "          const docLink = document.createElement('div');\n",
              "          docLink.innerHTML = docLinkHtml;\n",
              "          element.appendChild(docLink);\n",
              "        }\n",
              "      </script>\n",
              "    </div>\n",
              "  </div>\n",
              "  "
            ],
            "text/plain": [
              "         SK_ID_PREV    SK_ID_CURR  ...        SK_DPD    SK_DPD_DEF\n",
              "count  1.000136e+07  1.000136e+07  ...  1.000136e+07  1.000136e+07\n",
              "mean   1.903217e+06  2.784039e+05  ...  1.160693e+01  6.544684e-01\n",
              "std    5.358465e+05  1.027637e+05  ...  1.327140e+02  3.276249e+01\n",
              "min    1.000001e+06  1.000010e+05  ...  0.000000e+00  0.000000e+00\n",
              "25%    1.434405e+06  1.895500e+05  ...  0.000000e+00  0.000000e+00\n",
              "50%    1.896565e+06  2.786540e+05  ...  0.000000e+00  0.000000e+00\n",
              "75%    2.368963e+06  3.674290e+05  ...  0.000000e+00  0.000000e+00\n",
              "max    2.843499e+06  4.562550e+05  ...  4.231000e+03  3.595000e+03\n",
              "\n",
              "[8 rows x 7 columns]"
            ]
          },
          "metadata": {},
          "execution_count": 14
        }
      ]
    },
    {
      "cell_type": "markdown",
      "source": [
        "### Calculate mean, median, min, max and standard deviation"
      ],
      "metadata": {
        "id": "vIBZsHiPQOOz"
      }
    },
    {
      "cell_type": "code",
      "source": [
        "#Compute mean, standard deviation, min, max, median, length, and missing values of SK_ID_PREV\n",
        "print('Mean of SK_ID_PREV: ', home_credit_POS_CASH_balance.SK_ID_PREV.mean())\n",
        "print('Std. dev. of SK_ID_PREV: ', home_credit_POS_CASH_balance.SK_ID_PREV.std())\n",
        "print('Min of SK_ID_PREV: ', home_credit_POS_CASH_balance.SK_ID_PREV.min())\n",
        "print('Max of SK_ID_PREV: ', home_credit_POS_CASH_balance.SK_ID_PREV.max())\n",
        "print('Median of SK_ID_PREV: ', home_credit_POS_CASH_balance.SK_ID_PREV.median())\n",
        "print('Length of SK_ID_PREV: ', len(home_credit_POS_CASH_balance.SK_ID_PREV))\n",
        "print('Number of missing values of SK_ID_PREV: ', home_credit_POS_CASH_balance.SK_ID_PREV.isnull().sum())"
      ],
      "metadata": {
        "colab": {
          "base_uri": "https://localhost:8080/"
        },
        "id": "5X_6hMM0DUe9",
        "outputId": "4701ca4a-4b37-451c-cf44-8f9e11110ddb"
      },
      "execution_count": 15,
      "outputs": [
        {
          "output_type": "stream",
          "name": "stdout",
          "text": [
            "Mean of SK_ID_PREV:  1903216.5989568618\n",
            "Std. dev. of SK_ID_PREV:  535846.5307218095\n",
            "Min of SK_ID_PREV:  1000001\n",
            "Max of SK_ID_PREV:  2843499\n",
            "Median of SK_ID_PREV:  1896565.0\n",
            "Length of SK_ID_PREV:  10001358\n",
            "Number of missing values of SK_ID_PREV:  0\n"
          ]
        }
      ]
    },
    {
      "cell_type": "code",
      "source": [
        "#Compute mean, standard deviation, min, max, median, length, and missing values of SK_ID_CURR\n",
        "print('Mean of SK_ID_CURR: ', home_credit_POS_CASH_balance.SK_ID_CURR.mean())\n",
        "print('Std. dev. of SK_ID_CURR: ', home_credit_POS_CASH_balance.SK_ID_CURR.std())\n",
        "print('Min of SK_ID_CURR: ', home_credit_POS_CASH_balance.SK_ID_CURR.min())\n",
        "print('Max of SK_ID_CURR: ', home_credit_POS_CASH_balance.SK_ID_CURR.max())\n",
        "print('Median of SK_ID_CURR: ', home_credit_POS_CASH_balance.SK_ID_CURR.median())\n",
        "print('Length of SK_ID_CURR: ', len(home_credit_POS_CASH_balance.SK_ID_CURR))\n",
        "print('Number of missing values of SK_ID_CURR: ', home_credit_POS_CASH_balance.SK_ID_CURR.isnull().sum())"
      ],
      "metadata": {
        "colab": {
          "base_uri": "https://localhost:8080/"
        },
        "id": "-QxJ34sEDUYg",
        "outputId": "a8fd182e-0a40-4278-8ffc-afedb5932de3"
      },
      "execution_count": 16,
      "outputs": [
        {
          "output_type": "stream",
          "name": "stdout",
          "text": [
            "Mean of SK_ID_CURR:  278403.8633055631\n",
            "Std. dev. of SK_ID_CURR:  102763.74508967654\n",
            "Min of SK_ID_CURR:  100001\n",
            "Max of SK_ID_CURR:  456255\n",
            "Median of SK_ID_CURR:  278654.0\n",
            "Length of SK_ID_CURR:  10001358\n",
            "Number of missing values of SK_ID_CURR:  0\n"
          ]
        }
      ]
    },
    {
      "cell_type": "code",
      "source": [
        "#Compute mean, standard deviation, min, max, median, length, and missing values of MONTHS_BALANCE\n",
        "print('Mean of MONTHS_BALANCE: ', home_credit_POS_CASH_balance.MONTHS_BALANCE.mean())\n",
        "print('Std. dev. of MONTHS_BALANCE: ', home_credit_POS_CASH_balance.MONTHS_BALANCE.std())\n",
        "print('Min of MONTHS_BALANCE: ', home_credit_POS_CASH_balance.MONTHS_BALANCE.min())\n",
        "print('Max of MONTHS_BALANCE: ', home_credit_POS_CASH_balance.MONTHS_BALANCE.max())\n",
        "print('Median of MONTHS_BALANCE: ', home_credit_POS_CASH_balance.MONTHS_BALANCE.median())\n",
        "print('Length of MONTHS_BALANCE: ', len(home_credit_POS_CASH_balance.MONTHS_BALANCE))\n",
        "print('Number of missing values of MONTHS_BALANCE: ', home_credit_POS_CASH_balance.MONTHS_BALANCE.isnull().sum())"
      ],
      "metadata": {
        "colab": {
          "base_uri": "https://localhost:8080/"
        },
        "id": "4PQlpHjCDUVU",
        "outputId": "862bd590-408e-4c20-b91a-016593a9bc41"
      },
      "execution_count": 17,
      "outputs": [
        {
          "output_type": "stream",
          "name": "stdout",
          "text": [
            "Mean of MONTHS_BALANCE:  -35.012587990550884\n",
            "Std. dev. of MONTHS_BALANCE:  26.066569967493336\n",
            "Min of MONTHS_BALANCE:  -96\n",
            "Max of MONTHS_BALANCE:  -1\n",
            "Median of MONTHS_BALANCE:  -28.0\n",
            "Length of MONTHS_BALANCE:  10001358\n",
            "Number of missing values of MONTHS_BALANCE:  0\n"
          ]
        }
      ]
    },
    {
      "cell_type": "code",
      "source": [
        "#Compute mean, standard deviation, min, max, median, length, and missing values of CNT_INSTALMENT\n",
        "print('Mean of CNT_INSTALMENT: ', home_credit_POS_CASH_balance.CNT_INSTALMENT.mean())\n",
        "print('Std. dev. of CNT_INSTALMENT: ', home_credit_POS_CASH_balance.CNT_INSTALMENT.std())\n",
        "print('Min of CNT_INSTALMENT: ', home_credit_POS_CASH_balance.CNT_INSTALMENT.min())\n",
        "print('Max of CNT_INSTALMENT: ', home_credit_POS_CASH_balance.CNT_INSTALMENT.max())\n",
        "print('Median of CNT_INSTALMENT: ', home_credit_POS_CASH_balance.CNT_INSTALMENT.median())\n",
        "print('Length of CNT_INSTALMENT: ', len(home_credit_POS_CASH_balance.CNT_INSTALMENT))\n",
        "print('Number of missing values of CNT_INSTALMENT: ', home_credit_POS_CASH_balance.CNT_INSTALMENT.isnull().sum())"
      ],
      "metadata": {
        "colab": {
          "base_uri": "https://localhost:8080/"
        },
        "id": "LKN1fGl_Etb8",
        "outputId": "7600a632-2d90-4c2e-d617-45bcb51e5bce"
      },
      "execution_count": 18,
      "outputs": [
        {
          "output_type": "stream",
          "name": "stdout",
          "text": [
            "Mean of CNT_INSTALMENT:  17.089650453164907\n",
            "Std. dev. of CNT_INSTALMENT:  11.995055980422476\n",
            "Min of CNT_INSTALMENT:  1.0\n",
            "Max of CNT_INSTALMENT:  92.0\n",
            "Median of CNT_INSTALMENT:  12.0\n",
            "Length of CNT_INSTALMENT:  10001358\n",
            "Number of missing values of CNT_INSTALMENT:  26071\n"
          ]
        }
      ]
    },
    {
      "cell_type": "code",
      "source": [
        "#Compute mean, standard deviation, min, max, median, length, and missing values of CNT_INSTALMENT_FUTURE\n",
        "print('Mean of CNT_INSTALMENT_FUTURE: ', home_credit_POS_CASH_balance.CNT_INSTALMENT_FUTURE.mean())\n",
        "print('Std. dev. of CNT_INSTALMENT_FUTURE: ', home_credit_POS_CASH_balance.CNT_INSTALMENT_FUTURE.std())\n",
        "print('Min of CNT_INSTALMENT_FUTURE: ', home_credit_POS_CASH_balance.CNT_INSTALMENT_FUTURE.min())\n",
        "print('Max of CNT_INSTALMENT_FUTURE: ', home_credit_POS_CASH_balance.CNT_INSTALMENT_FUTURE.max())\n",
        "print('Median of CNT_INSTALMENT_FUTURE: ', home_credit_POS_CASH_balance.CNT_INSTALMENT_FUTURE.median())\n",
        "print('Length of CNT_INSTALMENT_FUTURE: ', len(home_credit_POS_CASH_balance.CNT_INSTALMENT_FUTURE))\n",
        "print('Number of missing values of CNT_INSTALMENT_FUTURE: ', home_credit_POS_CASH_balance.CNT_INSTALMENT_FUTURE.isnull().sum())"
      ],
      "metadata": {
        "colab": {
          "base_uri": "https://localhost:8080/"
        },
        "id": "3id2EpkMEtZe",
        "outputId": "8086b610-1140-4592-a833-71b93e39b38b"
      },
      "execution_count": 19,
      "outputs": [
        {
          "output_type": "stream",
          "name": "stdout",
          "text": [
            "Mean of CNT_INSTALMENT_FUTURE:  10.483840388897706\n",
            "Std. dev. of CNT_INSTALMENT_FUTURE:  11.10905766897002\n",
            "Min of CNT_INSTALMENT_FUTURE:  0.0\n",
            "Max of CNT_INSTALMENT_FUTURE:  85.0\n",
            "Median of CNT_INSTALMENT_FUTURE:  7.0\n",
            "Length of CNT_INSTALMENT_FUTURE:  10001358\n",
            "Number of missing values of CNT_INSTALMENT_FUTURE:  26087\n"
          ]
        }
      ]
    },
    {
      "cell_type": "code",
      "source": [
        "#Compute mean, standard deviation, min, max, median, length, and missing values of SK_DPD\n",
        "print('Mean of SK_DPD: ', home_credit_POS_CASH_balance.SK_DPD.mean())\n",
        "print('Std. dev. of SK_DPD: ', home_credit_POS_CASH_balance.SK_DPD.std())\n",
        "print('Min of SK_DPD: ', home_credit_POS_CASH_balance.SK_DPD.min())\n",
        "print('Max of SK_DPD: ', home_credit_POS_CASH_balance.SK_DPD.max())\n",
        "print('Median of SK_DPD: ', home_credit_POS_CASH_balance.SK_DPD.median())\n",
        "print('Length of SK_DPD: ', len(home_credit_POS_CASH_balance.SK_DPD))\n",
        "print('Number of missing values of SK_DPD: ', home_credit_POS_CASH_balance.SK_DPD.isnull().sum())"
      ],
      "metadata": {
        "colab": {
          "base_uri": "https://localhost:8080/"
        },
        "id": "MdPswZmWEtWX",
        "outputId": "ae1eab7f-c277-4004-c115-bc6db15823cf"
      },
      "execution_count": 20,
      "outputs": [
        {
          "output_type": "stream",
          "name": "stdout",
          "text": [
            "Mean of SK_DPD:  11.606928279139693\n",
            "Std. dev. of SK_DPD:  132.71404349209618\n",
            "Min of SK_DPD:  0\n",
            "Max of SK_DPD:  4231\n",
            "Median of SK_DPD:  0.0\n",
            "Length of SK_DPD:  10001358\n",
            "Number of missing values of SK_DPD:  0\n"
          ]
        }
      ]
    },
    {
      "cell_type": "code",
      "source": [
        "#Compute mean, standard deviation, min, max, median, length, and missing values of SK_DPD_DEF\n",
        "print('Mean of SK_DPD_DEF: ', home_credit_POS_CASH_balance.SK_DPD_DEF.mean())\n",
        "print('Std. dev. of SK_DPD_DEF: ', home_credit_POS_CASH_balance.SK_DPD_DEF.std())\n",
        "print('Min of SK_DPD_DEF: ', home_credit_POS_CASH_balance.SK_DPD_DEF.min())\n",
        "print('Max of SK_DPD_DEF: ', home_credit_POS_CASH_balance.SK_DPD_DEF.max())\n",
        "print('Median of SK_DPD_DEF: ', home_credit_POS_CASH_balance.SK_DPD_DEF.median())\n",
        "print('Length of SK_DPD_DEF: ', len(home_credit_POS_CASH_balance.SK_DPD_DEF))\n",
        "print('Number of missing values of SK_DPD_DEF: ', home_credit_POS_CASH_balance.SK_DPD_DEF.isnull().sum())"
      ],
      "metadata": {
        "colab": {
          "base_uri": "https://localhost:8080/"
        },
        "id": "NtM0EbEkFOJ0",
        "outputId": "a60a3a12-1ad1-4902-a673-4f79a545699e"
      },
      "execution_count": 21,
      "outputs": [
        {
          "output_type": "stream",
          "name": "stdout",
          "text": [
            "Mean of SK_DPD_DEF:  0.654468423188131\n",
            "Std. dev. of SK_DPD_DEF:  32.7624905433615\n",
            "Min of SK_DPD_DEF:  0\n",
            "Max of SK_DPD_DEF:  3595\n",
            "Median of SK_DPD_DEF:  0.0\n",
            "Length of SK_DPD_DEF:  10001358\n",
            "Number of missing values of SK_DPD_DEF:  0\n"
          ]
        }
      ]
    },
    {
      "cell_type": "code",
      "source": [
        "home_credit_POS_CASH_balance.head(10)"
      ],
      "metadata": {
        "id": "JSDbk84ZwZjq",
        "colab": {
          "base_uri": "https://localhost:8080/",
          "height": 407
        },
        "outputId": "7118d043-a641-4b99-ce8f-e4d1e5d22b8a"
      },
      "execution_count": 22,
      "outputs": [
        {
          "output_type": "execute_result",
          "data": {
            "text/html": [
              "\n",
              "  <div id=\"df-57ff54e2-1cc7-4104-8c62-775389a5585b\">\n",
              "    <div class=\"colab-df-container\">\n",
              "      <div>\n",
              "<style scoped>\n",
              "    .dataframe tbody tr th:only-of-type {\n",
              "        vertical-align: middle;\n",
              "    }\n",
              "\n",
              "    .dataframe tbody tr th {\n",
              "        vertical-align: top;\n",
              "    }\n",
              "\n",
              "    .dataframe thead th {\n",
              "        text-align: right;\n",
              "    }\n",
              "</style>\n",
              "<table border=\"1\" class=\"dataframe\">\n",
              "  <thead>\n",
              "    <tr style=\"text-align: right;\">\n",
              "      <th></th>\n",
              "      <th>SK_ID_PREV</th>\n",
              "      <th>SK_ID_CURR</th>\n",
              "      <th>MONTHS_BALANCE</th>\n",
              "      <th>CNT_INSTALMENT</th>\n",
              "      <th>CNT_INSTALMENT_FUTURE</th>\n",
              "      <th>NAME_CONTRACT_STATUS</th>\n",
              "      <th>SK_DPD</th>\n",
              "      <th>SK_DPD_DEF</th>\n",
              "    </tr>\n",
              "  </thead>\n",
              "  <tbody>\n",
              "    <tr>\n",
              "      <th>0</th>\n",
              "      <td>1803195</td>\n",
              "      <td>182943</td>\n",
              "      <td>-31</td>\n",
              "      <td>48.0</td>\n",
              "      <td>45.0</td>\n",
              "      <td>Active</td>\n",
              "      <td>0</td>\n",
              "      <td>0</td>\n",
              "    </tr>\n",
              "    <tr>\n",
              "      <th>1</th>\n",
              "      <td>1715348</td>\n",
              "      <td>367990</td>\n",
              "      <td>-33</td>\n",
              "      <td>36.0</td>\n",
              "      <td>35.0</td>\n",
              "      <td>Active</td>\n",
              "      <td>0</td>\n",
              "      <td>0</td>\n",
              "    </tr>\n",
              "    <tr>\n",
              "      <th>2</th>\n",
              "      <td>1784872</td>\n",
              "      <td>397406</td>\n",
              "      <td>-32</td>\n",
              "      <td>12.0</td>\n",
              "      <td>9.0</td>\n",
              "      <td>Active</td>\n",
              "      <td>0</td>\n",
              "      <td>0</td>\n",
              "    </tr>\n",
              "    <tr>\n",
              "      <th>3</th>\n",
              "      <td>1903291</td>\n",
              "      <td>269225</td>\n",
              "      <td>-35</td>\n",
              "      <td>48.0</td>\n",
              "      <td>42.0</td>\n",
              "      <td>Active</td>\n",
              "      <td>0</td>\n",
              "      <td>0</td>\n",
              "    </tr>\n",
              "    <tr>\n",
              "      <th>4</th>\n",
              "      <td>2341044</td>\n",
              "      <td>334279</td>\n",
              "      <td>-35</td>\n",
              "      <td>36.0</td>\n",
              "      <td>35.0</td>\n",
              "      <td>Active</td>\n",
              "      <td>0</td>\n",
              "      <td>0</td>\n",
              "    </tr>\n",
              "    <tr>\n",
              "      <th>5</th>\n",
              "      <td>2207092</td>\n",
              "      <td>342166</td>\n",
              "      <td>-32</td>\n",
              "      <td>12.0</td>\n",
              "      <td>12.0</td>\n",
              "      <td>Active</td>\n",
              "      <td>0</td>\n",
              "      <td>0</td>\n",
              "    </tr>\n",
              "    <tr>\n",
              "      <th>6</th>\n",
              "      <td>1110516</td>\n",
              "      <td>204376</td>\n",
              "      <td>-38</td>\n",
              "      <td>48.0</td>\n",
              "      <td>43.0</td>\n",
              "      <td>Active</td>\n",
              "      <td>0</td>\n",
              "      <td>0</td>\n",
              "    </tr>\n",
              "    <tr>\n",
              "      <th>7</th>\n",
              "      <td>1387235</td>\n",
              "      <td>153211</td>\n",
              "      <td>-35</td>\n",
              "      <td>36.0</td>\n",
              "      <td>36.0</td>\n",
              "      <td>Active</td>\n",
              "      <td>0</td>\n",
              "      <td>0</td>\n",
              "    </tr>\n",
              "    <tr>\n",
              "      <th>8</th>\n",
              "      <td>1220500</td>\n",
              "      <td>112740</td>\n",
              "      <td>-31</td>\n",
              "      <td>12.0</td>\n",
              "      <td>12.0</td>\n",
              "      <td>Active</td>\n",
              "      <td>0</td>\n",
              "      <td>0</td>\n",
              "    </tr>\n",
              "    <tr>\n",
              "      <th>9</th>\n",
              "      <td>2371489</td>\n",
              "      <td>274851</td>\n",
              "      <td>-32</td>\n",
              "      <td>24.0</td>\n",
              "      <td>16.0</td>\n",
              "      <td>Active</td>\n",
              "      <td>0</td>\n",
              "      <td>0</td>\n",
              "    </tr>\n",
              "  </tbody>\n",
              "</table>\n",
              "</div>\n",
              "      <button class=\"colab-df-convert\" onclick=\"convertToInteractive('df-57ff54e2-1cc7-4104-8c62-775389a5585b')\"\n",
              "              title=\"Convert this dataframe to an interactive table.\"\n",
              "              style=\"display:none;\">\n",
              "        \n",
              "  <svg xmlns=\"http://www.w3.org/2000/svg\" height=\"24px\"viewBox=\"0 0 24 24\"\n",
              "       width=\"24px\">\n",
              "    <path d=\"M0 0h24v24H0V0z\" fill=\"none\"/>\n",
              "    <path d=\"M18.56 5.44l.94 2.06.94-2.06 2.06-.94-2.06-.94-.94-2.06-.94 2.06-2.06.94zm-11 1L8.5 8.5l.94-2.06 2.06-.94-2.06-.94L8.5 2.5l-.94 2.06-2.06.94zm10 10l.94 2.06.94-2.06 2.06-.94-2.06-.94-.94-2.06-.94 2.06-2.06.94z\"/><path d=\"M17.41 7.96l-1.37-1.37c-.4-.4-.92-.59-1.43-.59-.52 0-1.04.2-1.43.59L10.3 9.45l-7.72 7.72c-.78.78-.78 2.05 0 2.83L4 21.41c.39.39.9.59 1.41.59.51 0 1.02-.2 1.41-.59l7.78-7.78 2.81-2.81c.8-.78.8-2.07 0-2.86zM5.41 20L4 18.59l7.72-7.72 1.47 1.35L5.41 20z\"/>\n",
              "  </svg>\n",
              "      </button>\n",
              "      \n",
              "  <style>\n",
              "    .colab-df-container {\n",
              "      display:flex;\n",
              "      flex-wrap:wrap;\n",
              "      gap: 12px;\n",
              "    }\n",
              "\n",
              "    .colab-df-convert {\n",
              "      background-color: #E8F0FE;\n",
              "      border: none;\n",
              "      border-radius: 50%;\n",
              "      cursor: pointer;\n",
              "      display: none;\n",
              "      fill: #1967D2;\n",
              "      height: 32px;\n",
              "      padding: 0 0 0 0;\n",
              "      width: 32px;\n",
              "    }\n",
              "\n",
              "    .colab-df-convert:hover {\n",
              "      background-color: #E2EBFA;\n",
              "      box-shadow: 0px 1px 2px rgba(60, 64, 67, 0.3), 0px 1px 3px 1px rgba(60, 64, 67, 0.15);\n",
              "      fill: #174EA6;\n",
              "    }\n",
              "\n",
              "    [theme=dark] .colab-df-convert {\n",
              "      background-color: #3B4455;\n",
              "      fill: #D2E3FC;\n",
              "    }\n",
              "\n",
              "    [theme=dark] .colab-df-convert:hover {\n",
              "      background-color: #434B5C;\n",
              "      box-shadow: 0px 1px 3px 1px rgba(0, 0, 0, 0.15);\n",
              "      filter: drop-shadow(0px 1px 2px rgba(0, 0, 0, 0.3));\n",
              "      fill: #FFFFFF;\n",
              "    }\n",
              "  </style>\n",
              "\n",
              "      <script>\n",
              "        const buttonEl =\n",
              "          document.querySelector('#df-57ff54e2-1cc7-4104-8c62-775389a5585b button.colab-df-convert');\n",
              "        buttonEl.style.display =\n",
              "          google.colab.kernel.accessAllowed ? 'block' : 'none';\n",
              "\n",
              "        async function convertToInteractive(key) {\n",
              "          const element = document.querySelector('#df-57ff54e2-1cc7-4104-8c62-775389a5585b');\n",
              "          const dataTable =\n",
              "            await google.colab.kernel.invokeFunction('convertToInteractive',\n",
              "                                                     [key], {});\n",
              "          if (!dataTable) return;\n",
              "\n",
              "          const docLinkHtml = 'Like what you see? Visit the ' +\n",
              "            '<a target=\"_blank\" href=https://colab.research.google.com/notebooks/data_table.ipynb>data table notebook</a>'\n",
              "            + ' to learn more about interactive tables.';\n",
              "          element.innerHTML = '';\n",
              "          dataTable['output_type'] = 'display_data';\n",
              "          await google.colab.output.renderOutput(dataTable, element);\n",
              "          const docLink = document.createElement('div');\n",
              "          docLink.innerHTML = docLinkHtml;\n",
              "          element.appendChild(docLink);\n",
              "        }\n",
              "      </script>\n",
              "    </div>\n",
              "  </div>\n",
              "  "
            ],
            "text/plain": [
              "   SK_ID_PREV  SK_ID_CURR  ...  SK_DPD  SK_DPD_DEF\n",
              "0     1803195      182943  ...       0           0\n",
              "1     1715348      367990  ...       0           0\n",
              "2     1784872      397406  ...       0           0\n",
              "3     1903291      269225  ...       0           0\n",
              "4     2341044      334279  ...       0           0\n",
              "5     2207092      342166  ...       0           0\n",
              "6     1110516      204376  ...       0           0\n",
              "7     1387235      153211  ...       0           0\n",
              "8     1220500      112740  ...       0           0\n",
              "9     2371489      274851  ...       0           0\n",
              "\n",
              "[10 rows x 8 columns]"
            ]
          },
          "metadata": {},
          "execution_count": 22
        }
      ]
    },
    {
      "cell_type": "markdown",
      "source": [
        "### Count by unique values"
      ],
      "metadata": {
        "id": "OtSNkOaoRDsh"
      }
    },
    {
      "cell_type": "code",
      "source": [
        "home_credit_POS_CASH_balance.value_counts()"
      ],
      "metadata": {
        "id": "AHBiegG8wZg3",
        "colab": {
          "base_uri": "https://localhost:8080/"
        },
        "outputId": "d2ff7605-a706-4c6c-8c9a-062869d2ffb4"
      },
      "execution_count": 23,
      "outputs": [
        {
          "output_type": "execute_result",
          "data": {
            "text/plain": [
              "SK_ID_PREV  SK_ID_CURR  MONTHS_BALANCE  CNT_INSTALMENT  CNT_INSTALMENT_FUTURE  NAME_CONTRACT_STATUS  SK_DPD  SK_DPD_DEF\n",
              "1000001     158271      -10             12.0            12.0                   Active                0       0             1\n",
              "2211150     122580      -75             12.0            0.0                    Completed             0       0             1\n",
              "                        -82             12.0            7.0                    Active                0       0             1\n",
              "                        -81             12.0            6.0                    Active                0       0             1\n",
              "                        -80             12.0            5.0                    Active                0       0             1\n",
              "                                                                                                                          ..\n",
              "1576022     145134      -27             10.0            10.0                   Active                0       0             1\n",
              "                        -26             10.0            9.0                    Active                0       0             1\n",
              "                        -25             10.0            8.0                    Active                0       0             1\n",
              "                        -24             10.0            7.0                    Active                0       0             1\n",
              "2843499     314148      -30             10.0            0.0                    Completed             0       0             1\n",
              "Length: 9975174, dtype: int64"
            ]
          },
          "metadata": {},
          "execution_count": 23
        }
      ]
    },
    {
      "cell_type": "code",
      "source": [
        "home_credit_POS_CASH_balance.SK_ID_PREV.value_counts()"
      ],
      "metadata": {
        "colab": {
          "base_uri": "https://localhost:8080/"
        },
        "id": "tXldSlu6Ddww",
        "outputId": "9b857839-01e8-41ef-d27c-e35ec5f85ba8"
      },
      "execution_count": 24,
      "outputs": [
        {
          "output_type": "execute_result",
          "data": {
            "text/plain": [
              "1856103    96\n",
              "2706683    96\n",
              "1617536    96\n",
              "1364606    96\n",
              "1057553    96\n",
              "           ..\n",
              "1922777     1\n",
              "2660098     1\n",
              "1364218     1\n",
              "1077449     1\n",
              "1191779     1\n",
              "Name: SK_ID_PREV, Length: 936325, dtype: int64"
            ]
          },
          "metadata": {},
          "execution_count": 24
        }
      ]
    },
    {
      "cell_type": "code",
      "source": [
        "home_credit_POS_CASH_balance.SK_ID_CURR.value_counts()"
      ],
      "metadata": {
        "colab": {
          "base_uri": "https://localhost:8080/"
        },
        "id": "0yDca7_bEKtn",
        "outputId": "d38ba5ea-ed61-437b-b535-14416d1ee47e"
      },
      "execution_count": 25,
      "outputs": [
        {
          "output_type": "execute_result",
          "data": {
            "text/plain": [
              "265042    295\n",
              "172612    247\n",
              "309133    246\n",
              "127659    245\n",
              "185185    245\n",
              "         ... \n",
              "406557      1\n",
              "240277      1\n",
              "177557      1\n",
              "251697      1\n",
              "144536      1\n",
              "Name: SK_ID_CURR, Length: 337252, dtype: int64"
            ]
          },
          "metadata": {},
          "execution_count": 25
        }
      ]
    },
    {
      "cell_type": "code",
      "source": [
        "home_credit_POS_CASH_balance.CNT_INSTALMENT.value_counts()"
      ],
      "metadata": {
        "colab": {
          "base_uri": "https://localhost:8080/"
        },
        "id": "-RABkMHRL-ZN",
        "outputId": "f57d0150-e11c-4885-dcbf-0cfe4671f655"
      },
      "execution_count": 26,
      "outputs": [
        {
          "output_type": "execute_result",
          "data": {
            "text/plain": [
              "12.0    2496845\n",
              "24.0    1517472\n",
              "10.0    1243449\n",
              "6.0     1065500\n",
              "18.0     727394\n",
              "         ...   \n",
              "70.0          2\n",
              "63.0          2\n",
              "92.0          1\n",
              "81.0          1\n",
              "68.0          1\n",
              "Name: CNT_INSTALMENT, Length: 73, dtype: int64"
            ]
          },
          "metadata": {},
          "execution_count": 26
        }
      ]
    },
    {
      "cell_type": "code",
      "source": [
        "home_credit_POS_CASH_balance.CNT_INSTALMENT_FUTURE.value_counts()"
      ],
      "metadata": {
        "colab": {
          "base_uri": "https://localhost:8080/"
        },
        "id": "i3XUBcfvMCzK",
        "outputId": "22e9debd-b629-4e4a-d681-6a0e3a915ac9"
      },
      "execution_count": 27,
      "outputs": [
        {
          "output_type": "execute_result",
          "data": {
            "text/plain": [
              "0.0     1185960\n",
              "6.0      614058\n",
              "4.0      613632\n",
              "5.0      600295\n",
              "3.0      582007\n",
              "         ...   \n",
              "83.0          1\n",
              "85.0          1\n",
              "82.0          1\n",
              "80.0          1\n",
              "84.0          1\n",
              "Name: CNT_INSTALMENT_FUTURE, Length: 79, dtype: int64"
            ]
          },
          "metadata": {},
          "execution_count": 27
        }
      ]
    },
    {
      "cell_type": "code",
      "source": [
        "home_credit_POS_CASH_balance.NAME_CONTRACT_STATUS.value_counts()"
      ],
      "metadata": {
        "colab": {
          "base_uri": "https://localhost:8080/"
        },
        "id": "bN2NF0sgxseI",
        "outputId": "4e0dd62b-d9c3-4feb-cd04-3bf6eb6dca44"
      },
      "execution_count": 28,
      "outputs": [
        {
          "output_type": "execute_result",
          "data": {
            "text/plain": [
              "Active                   9151119\n",
              "Completed                 744883\n",
              "Signed                     87260\n",
              "Demand                      7065\n",
              "Returned to the store       5461\n",
              "Approved                    4917\n",
              "Amortized debt               636\n",
              "Canceled                      15\n",
              "XNA                            2\n",
              "Name: NAME_CONTRACT_STATUS, dtype: int64"
            ]
          },
          "metadata": {},
          "execution_count": 28
        }
      ]
    },
    {
      "cell_type": "code",
      "source": [
        "home_credit_POS_CASH_balance.SK_DPD.value_counts()"
      ],
      "metadata": {
        "colab": {
          "base_uri": "https://localhost:8080/"
        },
        "id": "04SWiB3g-kRq",
        "outputId": "5c799e02-d465-4d08-f635-39bbecee4fd3"
      },
      "execution_count": 29,
      "outputs": [
        {
          "output_type": "execute_result",
          "data": {
            "text/plain": [
              "0       9706131\n",
              "1         21872\n",
              "2         17358\n",
              "3         14403\n",
              "4         12350\n",
              "         ...   \n",
              "3161          1\n",
              "3217          1\n",
              "3323          1\n",
              "3399          1\n",
              "3082          1\n",
              "Name: SK_DPD, Length: 3400, dtype: int64"
            ]
          },
          "metadata": {},
          "execution_count": 29
        }
      ]
    },
    {
      "cell_type": "code",
      "source": [
        "home_credit_POS_CASH_balance.SK_DPD_DEF.value_counts()"
      ],
      "metadata": {
        "colab": {
          "base_uri": "https://localhost:8080/"
        },
        "id": "wN1q0zuJ-sRn",
        "outputId": "b34ccdb0-68a9-4857-d89e-2842e83ff0c3"
      },
      "execution_count": 30,
      "outputs": [
        {
          "output_type": "execute_result",
          "data": {
            "text/plain": [
              "0       9887389\n",
              "1         22134\n",
              "2         14690\n",
              "3         11652\n",
              "4          9528\n",
              "         ...   \n",
              "1656          1\n",
              "1291          1\n",
              "1411          1\n",
              "2448          1\n",
              "2495          1\n",
              "Name: SK_DPD_DEF, Length: 2307, dtype: int64"
            ]
          },
          "metadata": {},
          "execution_count": 30
        }
      ]
    },
    {
      "cell_type": "code",
      "source": [
        "home_credit_POS_CASH_balance.head()"
      ],
      "metadata": {
        "colab": {
          "base_uri": "https://localhost:8080/",
          "height": 250
        },
        "id": "qwLLp2fRA9ay",
        "outputId": "b12d5d58-6aa6-405f-d085-2ca5c0afe5e3"
      },
      "execution_count": 31,
      "outputs": [
        {
          "output_type": "execute_result",
          "data": {
            "text/html": [
              "\n",
              "  <div id=\"df-f5a6b7e8-d6d9-493f-b33b-448085a8cdb7\">\n",
              "    <div class=\"colab-df-container\">\n",
              "      <div>\n",
              "<style scoped>\n",
              "    .dataframe tbody tr th:only-of-type {\n",
              "        vertical-align: middle;\n",
              "    }\n",
              "\n",
              "    .dataframe tbody tr th {\n",
              "        vertical-align: top;\n",
              "    }\n",
              "\n",
              "    .dataframe thead th {\n",
              "        text-align: right;\n",
              "    }\n",
              "</style>\n",
              "<table border=\"1\" class=\"dataframe\">\n",
              "  <thead>\n",
              "    <tr style=\"text-align: right;\">\n",
              "      <th></th>\n",
              "      <th>SK_ID_PREV</th>\n",
              "      <th>SK_ID_CURR</th>\n",
              "      <th>MONTHS_BALANCE</th>\n",
              "      <th>CNT_INSTALMENT</th>\n",
              "      <th>CNT_INSTALMENT_FUTURE</th>\n",
              "      <th>NAME_CONTRACT_STATUS</th>\n",
              "      <th>SK_DPD</th>\n",
              "      <th>SK_DPD_DEF</th>\n",
              "    </tr>\n",
              "  </thead>\n",
              "  <tbody>\n",
              "    <tr>\n",
              "      <th>0</th>\n",
              "      <td>1803195</td>\n",
              "      <td>182943</td>\n",
              "      <td>-31</td>\n",
              "      <td>48.0</td>\n",
              "      <td>45.0</td>\n",
              "      <td>Active</td>\n",
              "      <td>0</td>\n",
              "      <td>0</td>\n",
              "    </tr>\n",
              "    <tr>\n",
              "      <th>1</th>\n",
              "      <td>1715348</td>\n",
              "      <td>367990</td>\n",
              "      <td>-33</td>\n",
              "      <td>36.0</td>\n",
              "      <td>35.0</td>\n",
              "      <td>Active</td>\n",
              "      <td>0</td>\n",
              "      <td>0</td>\n",
              "    </tr>\n",
              "    <tr>\n",
              "      <th>2</th>\n",
              "      <td>1784872</td>\n",
              "      <td>397406</td>\n",
              "      <td>-32</td>\n",
              "      <td>12.0</td>\n",
              "      <td>9.0</td>\n",
              "      <td>Active</td>\n",
              "      <td>0</td>\n",
              "      <td>0</td>\n",
              "    </tr>\n",
              "    <tr>\n",
              "      <th>3</th>\n",
              "      <td>1903291</td>\n",
              "      <td>269225</td>\n",
              "      <td>-35</td>\n",
              "      <td>48.0</td>\n",
              "      <td>42.0</td>\n",
              "      <td>Active</td>\n",
              "      <td>0</td>\n",
              "      <td>0</td>\n",
              "    </tr>\n",
              "    <tr>\n",
              "      <th>4</th>\n",
              "      <td>2341044</td>\n",
              "      <td>334279</td>\n",
              "      <td>-35</td>\n",
              "      <td>36.0</td>\n",
              "      <td>35.0</td>\n",
              "      <td>Active</td>\n",
              "      <td>0</td>\n",
              "      <td>0</td>\n",
              "    </tr>\n",
              "  </tbody>\n",
              "</table>\n",
              "</div>\n",
              "      <button class=\"colab-df-convert\" onclick=\"convertToInteractive('df-f5a6b7e8-d6d9-493f-b33b-448085a8cdb7')\"\n",
              "              title=\"Convert this dataframe to an interactive table.\"\n",
              "              style=\"display:none;\">\n",
              "        \n",
              "  <svg xmlns=\"http://www.w3.org/2000/svg\" height=\"24px\"viewBox=\"0 0 24 24\"\n",
              "       width=\"24px\">\n",
              "    <path d=\"M0 0h24v24H0V0z\" fill=\"none\"/>\n",
              "    <path d=\"M18.56 5.44l.94 2.06.94-2.06 2.06-.94-2.06-.94-.94-2.06-.94 2.06-2.06.94zm-11 1L8.5 8.5l.94-2.06 2.06-.94-2.06-.94L8.5 2.5l-.94 2.06-2.06.94zm10 10l.94 2.06.94-2.06 2.06-.94-2.06-.94-.94-2.06-.94 2.06-2.06.94z\"/><path d=\"M17.41 7.96l-1.37-1.37c-.4-.4-.92-.59-1.43-.59-.52 0-1.04.2-1.43.59L10.3 9.45l-7.72 7.72c-.78.78-.78 2.05 0 2.83L4 21.41c.39.39.9.59 1.41.59.51 0 1.02-.2 1.41-.59l7.78-7.78 2.81-2.81c.8-.78.8-2.07 0-2.86zM5.41 20L4 18.59l7.72-7.72 1.47 1.35L5.41 20z\"/>\n",
              "  </svg>\n",
              "      </button>\n",
              "      \n",
              "  <style>\n",
              "    .colab-df-container {\n",
              "      display:flex;\n",
              "      flex-wrap:wrap;\n",
              "      gap: 12px;\n",
              "    }\n",
              "\n",
              "    .colab-df-convert {\n",
              "      background-color: #E8F0FE;\n",
              "      border: none;\n",
              "      border-radius: 50%;\n",
              "      cursor: pointer;\n",
              "      display: none;\n",
              "      fill: #1967D2;\n",
              "      height: 32px;\n",
              "      padding: 0 0 0 0;\n",
              "      width: 32px;\n",
              "    }\n",
              "\n",
              "    .colab-df-convert:hover {\n",
              "      background-color: #E2EBFA;\n",
              "      box-shadow: 0px 1px 2px rgba(60, 64, 67, 0.3), 0px 1px 3px 1px rgba(60, 64, 67, 0.15);\n",
              "      fill: #174EA6;\n",
              "    }\n",
              "\n",
              "    [theme=dark] .colab-df-convert {\n",
              "      background-color: #3B4455;\n",
              "      fill: #D2E3FC;\n",
              "    }\n",
              "\n",
              "    [theme=dark] .colab-df-convert:hover {\n",
              "      background-color: #434B5C;\n",
              "      box-shadow: 0px 1px 3px 1px rgba(0, 0, 0, 0.15);\n",
              "      filter: drop-shadow(0px 1px 2px rgba(0, 0, 0, 0.3));\n",
              "      fill: #FFFFFF;\n",
              "    }\n",
              "  </style>\n",
              "\n",
              "      <script>\n",
              "        const buttonEl =\n",
              "          document.querySelector('#df-f5a6b7e8-d6d9-493f-b33b-448085a8cdb7 button.colab-df-convert');\n",
              "        buttonEl.style.display =\n",
              "          google.colab.kernel.accessAllowed ? 'block' : 'none';\n",
              "\n",
              "        async function convertToInteractive(key) {\n",
              "          const element = document.querySelector('#df-f5a6b7e8-d6d9-493f-b33b-448085a8cdb7');\n",
              "          const dataTable =\n",
              "            await google.colab.kernel.invokeFunction('convertToInteractive',\n",
              "                                                     [key], {});\n",
              "          if (!dataTable) return;\n",
              "\n",
              "          const docLinkHtml = 'Like what you see? Visit the ' +\n",
              "            '<a target=\"_blank\" href=https://colab.research.google.com/notebooks/data_table.ipynb>data table notebook</a>'\n",
              "            + ' to learn more about interactive tables.';\n",
              "          element.innerHTML = '';\n",
              "          dataTable['output_type'] = 'display_data';\n",
              "          await google.colab.output.renderOutput(dataTable, element);\n",
              "          const docLink = document.createElement('div');\n",
              "          docLink.innerHTML = docLinkHtml;\n",
              "          element.appendChild(docLink);\n",
              "        }\n",
              "      </script>\n",
              "    </div>\n",
              "  </div>\n",
              "  "
            ],
            "text/plain": [
              "   SK_ID_PREV  SK_ID_CURR  ...  SK_DPD  SK_DPD_DEF\n",
              "0     1803195      182943  ...       0           0\n",
              "1     1715348      367990  ...       0           0\n",
              "2     1784872      397406  ...       0           0\n",
              "3     1903291      269225  ...       0           0\n",
              "4     2341044      334279  ...       0           0\n",
              "\n",
              "[5 rows x 8 columns]"
            ]
          },
          "metadata": {},
          "execution_count": 31
        }
      ]
    },
    {
      "cell_type": "markdown",
      "source": [
        "### Histogram"
      ],
      "metadata": {
        "id": "EEgfmYIiRJit"
      }
    },
    {
      "cell_type": "code",
      "source": [
        "fig = plt.figure(figsize =(20, 7))\n",
        "home_credit_POS_CASH_balance['MONTHS_BALANCE'].hist()"
      ],
      "metadata": {
        "colab": {
          "base_uri": "https://localhost:8080/",
          "height": 388
        },
        "id": "XXP7TcdxAqQD",
        "outputId": "a8e6e55b-97c0-43f4-8e5c-1f39729d56f7"
      },
      "execution_count": 32,
      "outputs": [
        {
          "output_type": "execute_result",
          "data": {
            "text/plain": [
              "<matplotlib.axes._subplots.AxesSubplot at 0x7f2158c993d0>"
            ]
          },
          "metadata": {},
          "execution_count": 32
        },
        {
          "output_type": "display_data",
          "data": {
            "image/png": "[encoded data removed]",
            "text/plain": [
              "<Figure size 1440x504 with 1 Axes>"
            ]
          },
          "metadata": {
            "needs_background": "light"
          }
        }
      ]
    },
    {
      "cell_type": "markdown",
      "source": [
        "MONTHS_BALANCE is left skewed.\n",
        "\n",
        "Values = -10, -11, -9, -12, -8 of this variable are extreme."
      ],
      "metadata": {
        "id": "Brs6XzuHY0NV"
      }
    },
    {
      "cell_type": "code",
      "source": [
        "home_credit_POS_CASH_balance['MONTHS_BALANCE'].value_counts()"
      ],
      "metadata": {
        "colab": {
          "base_uri": "https://localhost:8080/"
        },
        "id": "IXHp0xOWZ2j-",
        "outputId": "74bcf84a-71d9-43f9-88c3-c5f307596e9a"
      },
      "execution_count": 33,
      "outputs": [
        {
          "output_type": "execute_result",
          "data": {
            "text/plain": [
              "-10    216441\n",
              "-11    216023\n",
              "-9     215558\n",
              "-12    214716\n",
              "-8     214149\n",
              "        ...  \n",
              "-92     42283\n",
              "-93     41025\n",
              "-94     39900\n",
              "-95     38514\n",
              "-96     36448\n",
              "Name: MONTHS_BALANCE, Length: 96, dtype: int64"
            ]
          },
          "metadata": {},
          "execution_count": 33
        }
      ]
    },
    {
      "cell_type": "code",
      "source": [
        "fig = plt.figure(figsize =(20, 7))\n",
        "home_credit_POS_CASH_balance['CNT_INSTALMENT'].hist()"
      ],
      "metadata": {
        "colab": {
          "base_uri": "https://localhost:8080/",
          "height": 391
        },
        "id": "Dl2bfSAjA0wT",
        "outputId": "43a10822-bae6-4b2c-9568-a1ca36b149f0"
      },
      "execution_count": 34,
      "outputs": [
        {
          "output_type": "execute_result",
          "data": {
            "text/plain": [
              "<matplotlib.axes._subplots.AxesSubplot at 0x7f2158b7d310>"
            ]
          },
          "metadata": {},
          "execution_count": 34
        },
        {
          "output_type": "display_data",
          "data": {
            "image/png": "[encoded data removed]",
            "text/plain": [
              "<Figure size 1440x504 with 1 Axes>"
            ]
          },
          "metadata": {
            "needs_background": "light"
          }
        }
      ]
    },
    {
      "cell_type": "markdown",
      "source": [
        "CNT_INSTALMENT is right skewed.\n",
        "\n",
        "Values = 12.0 of this variable is extreme."
      ],
      "metadata": {
        "id": "_w0dqsDcY5yA"
      }
    },
    {
      "cell_type": "code",
      "source": [
        "home_credit_POS_CASH_balance['CNT_INSTALMENT'].value_counts()"
      ],
      "metadata": {
        "colab": {
          "base_uri": "https://localhost:8080/"
        },
        "id": "kZ3CPs1LZmHq",
        "outputId": "0802652b-bcd8-4e14-ac87-b8f728053f30"
      },
      "execution_count": 35,
      "outputs": [
        {
          "output_type": "execute_result",
          "data": {
            "text/plain": [
              "12.0    2496845\n",
              "24.0    1517472\n",
              "10.0    1243449\n",
              "6.0     1065500\n",
              "18.0     727394\n",
              "         ...   \n",
              "70.0          2\n",
              "63.0          2\n",
              "92.0          1\n",
              "81.0          1\n",
              "68.0          1\n",
              "Name: CNT_INSTALMENT, Length: 73, dtype: int64"
            ]
          },
          "metadata": {},
          "execution_count": 35
        }
      ]
    },
    {
      "cell_type": "code",
      "source": [
        "fig = plt.figure(figsize =(10, 7))\n",
        "home_credit_POS_CASH_balance['CNT_INSTALMENT_FUTURE'].hist()"
      ],
      "metadata": {
        "colab": {
          "base_uri": "https://localhost:8080/",
          "height": 456
        },
        "id": "cr_YpsaiBEWF",
        "outputId": "aff5c956-219f-4e7c-9827-cf6a4d430e64"
      },
      "execution_count": 36,
      "outputs": [
        {
          "output_type": "execute_result",
          "data": {
            "text/plain": [
              "<matplotlib.axes._subplots.AxesSubplot at 0x7f21586bc6d0>"
            ]
          },
          "metadata": {},
          "execution_count": 36
        },
        {
          "output_type": "display_data",
          "data": {
            "image/png": "[encoded data removed]",
            "text/plain": [
              "<Figure size 720x504 with 1 Axes>"
            ]
          },
          "metadata": {
            "needs_background": "light"
          }
        }
      ]
    },
    {
      "cell_type": "markdown",
      "source": [
        " CNT_INSTALMENT_FUTURE is right skewed.\n",
        "\n",
        " Value = 0.0 of this variable is extreme."
      ],
      "metadata": {
        "id": "NQwwcTKoY9gm"
      }
    },
    {
      "cell_type": "code",
      "source": [
        "home_credit_POS_CASH_balance['CNT_INSTALMENT_FUTURE'].value_counts()"
      ],
      "metadata": {
        "colab": {
          "base_uri": "https://localhost:8080/"
        },
        "id": "PpIVtP33azUF",
        "outputId": "9d2b7ac6-4e52-439f-ec80-677049cbe5ba"
      },
      "execution_count": 37,
      "outputs": [
        {
          "output_type": "execute_result",
          "data": {
            "text/plain": [
              "0.0     1185960\n",
              "6.0      614058\n",
              "4.0      613632\n",
              "5.0      600295\n",
              "3.0      582007\n",
              "         ...   \n",
              "83.0          1\n",
              "85.0          1\n",
              "82.0          1\n",
              "80.0          1\n",
              "84.0          1\n",
              "Name: CNT_INSTALMENT_FUTURE, Length: 79, dtype: int64"
            ]
          },
          "metadata": {},
          "execution_count": 37
        }
      ]
    },
    {
      "cell_type": "code",
      "source": [
        "fig = plt.figure(figsize =(20, 7))\n",
        "home_credit_POS_CASH_balance['NAME_CONTRACT_STATUS'].hist()"
      ],
      "metadata": {
        "colab": {
          "base_uri": "https://localhost:8080/",
          "height": 394
        },
        "id": "rVsGMIKqBGF9",
        "outputId": "4724df49-fc76-40e8-814f-1ae4aa6ede47"
      },
      "execution_count": 38,
      "outputs": [
        {
          "output_type": "execute_result",
          "data": {
            "text/plain": [
              "<matplotlib.axes._subplots.AxesSubplot at 0x7f2158b89890>"
            ]
          },
          "metadata": {},
          "execution_count": 38
        },
        {
          "output_type": "display_data",
          "data": {
            "image/png": "[encoded data removed]",
            "text/plain": [
              "<Figure size 1440x504 with 1 Axes>"
            ]
          },
          "metadata": {
            "needs_background": "light"
          }
        }
      ]
    },
    {
      "cell_type": "markdown",
      "source": [
        "NAME_CONTRACT_STATUS is right skewed. \n",
        "\n",
        "Active NAME_OF_CONTRACT is an extreme value."
      ],
      "metadata": {
        "id": "GMahwLj8ZCZV"
      }
    },
    {
      "cell_type": "code",
      "source": [
        "home_credit_POS_CASH_balance.NAME_CONTRACT_STATUS.value_counts()"
      ],
      "metadata": {
        "colab": {
          "base_uri": "https://localhost:8080/"
        },
        "id": "agt9YonaVop_",
        "outputId": "bb1da597-b6ac-47b9-bea3-f5e577f2c93d"
      },
      "execution_count": 39,
      "outputs": [
        {
          "output_type": "execute_result",
          "data": {
            "text/plain": [
              "Active                   9151119\n",
              "Completed                 744883\n",
              "Signed                     87260\n",
              "Demand                      7065\n",
              "Returned to the store       5461\n",
              "Approved                    4917\n",
              "Amortized debt               636\n",
              "Canceled                      15\n",
              "XNA                            2\n",
              "Name: NAME_CONTRACT_STATUS, dtype: int64"
            ]
          },
          "metadata": {},
          "execution_count": 39
        }
      ]
    },
    {
      "cell_type": "code",
      "source": [
        "fig = plt.figure(figsize =(20, 7))\n",
        "home_credit_POS_CASH_balance['SK_DPD'].hist()"
      ],
      "metadata": {
        "colab": {
          "base_uri": "https://localhost:8080/",
          "height": 391
        },
        "id": "Fwyt0yOTBGDB",
        "outputId": "b507a439-261c-4fd0-d13e-f182babecfb7"
      },
      "execution_count": 40,
      "outputs": [
        {
          "output_type": "execute_result",
          "data": {
            "text/plain": [
              "<matplotlib.axes._subplots.AxesSubplot at 0x7f215855ea10>"
            ]
          },
          "metadata": {},
          "execution_count": 40
        },
        {
          "output_type": "display_data",
          "data": {
            "image/png": "[encoded data removed]",
            "text/plain": [
              "<Figure size 1440x504 with 1 Axes>"
            ]
          },
          "metadata": {
            "needs_background": "light"
          }
        }
      ]
    },
    {
      "cell_type": "markdown",
      "source": [
        "SK_DPD is right skewed.\n",
        "\n",
        "Value = 0 of this variable is extreme."
      ],
      "metadata": {
        "id": "llAqwzK5ZI3X"
      }
    },
    {
      "cell_type": "code",
      "source": [
        "home_credit_POS_CASH_balance['SK_DPD'].value_counts()"
      ],
      "metadata": {
        "colab": {
          "base_uri": "https://localhost:8080/"
        },
        "id": "BFFEBadxa9UI",
        "outputId": "9df01fc9-0d91-47e9-e183-6f4201097f37"
      },
      "execution_count": 41,
      "outputs": [
        {
          "output_type": "execute_result",
          "data": {
            "text/plain": [
              "0       9706131\n",
              "1         21872\n",
              "2         17358\n",
              "3         14403\n",
              "4         12350\n",
              "         ...   \n",
              "3161          1\n",
              "3217          1\n",
              "3323          1\n",
              "3399          1\n",
              "3082          1\n",
              "Name: SK_DPD, Length: 3400, dtype: int64"
            ]
          },
          "metadata": {},
          "execution_count": 41
        }
      ]
    },
    {
      "cell_type": "markdown",
      "source": [
        "The value = 0 of the SK_DPD column is the second most extreme among all variables."
      ],
      "metadata": {
        "id": "1AHKtaW8RpSL"
      }
    },
    {
      "cell_type": "code",
      "source": [
        "fig = plt.figure(figsize =(20, 7))\n",
        "home_credit_POS_CASH_balance['SK_DPD_DEF'].hist()"
      ],
      "metadata": {
        "colab": {
          "base_uri": "https://localhost:8080/",
          "height": 391
        },
        "id": "pvntWGk6BF4t",
        "outputId": "441aac56-5434-4b0d-8541-42995d58e315"
      },
      "execution_count": 42,
      "outputs": [
        {
          "output_type": "execute_result",
          "data": {
            "text/plain": [
              "<matplotlib.axes._subplots.AxesSubplot at 0x7f2158500550>"
            ]
          },
          "metadata": {},
          "execution_count": 42
        },
        {
          "output_type": "display_data",
          "data": {
            "image/png": "[encoded data removed]",
            "text/plain": [
              "<Figure size 1440x504 with 1 Axes>"
            ]
          },
          "metadata": {
            "needs_background": "light"
          }
        }
      ]
    },
    {
      "cell_type": "markdown",
      "source": [
        "SK_DPD_DEF is right skewed.\n",
        "\n",
        "The value = 0 of the SK_DPD_DEF column is the most extreme among all variables."
      ],
      "metadata": {
        "id": "CizUG-q1ZNQs"
      }
    },
    {
      "cell_type": "code",
      "source": [
        "home_credit_POS_CASH_balance.SK_DPD_DEF.value_counts()"
      ],
      "metadata": {
        "colab": {
          "base_uri": "https://localhost:8080/"
        },
        "id": "WoRvsn_bFcd9",
        "outputId": "102bd710-f678-485f-897c-d586ca44dad3"
      },
      "execution_count": 43,
      "outputs": [
        {
          "output_type": "execute_result",
          "data": {
            "text/plain": [
              "0       9887389\n",
              "1         22134\n",
              "2         14690\n",
              "3         11652\n",
              "4          9528\n",
              "         ...   \n",
              "1656          1\n",
              "1291          1\n",
              "1411          1\n",
              "2448          1\n",
              "2495          1\n",
              "Name: SK_DPD_DEF, Length: 2307, dtype: int64"
            ]
          },
          "metadata": {},
          "execution_count": 43
        }
      ]
    },
    {
      "cell_type": "markdown",
      "source": [
        "### Correlation"
      ],
      "metadata": {
        "id": "0-yPK_bCbJk0"
      }
    },
    {
      "cell_type": "code",
      "source": [
        "#Find the correlation between each pair of columns\n",
        "home_credit_POS_CASH_balance.corr().round(2)"
      ],
      "metadata": {
        "colab": {
          "base_uri": "https://localhost:8080/",
          "height": 313
        },
        "id": "BTCOHFI-BWLA",
        "outputId": "a46ee4c4-7b2b-4a38-cd02-360d15a21443"
      },
      "execution_count": 44,
      "outputs": [
        {
          "output_type": "execute_result",
          "data": {
            "text/html": [
              "\n",
              "  <div id=\"df-e086c6b5-9f96-4247-9760-5826141064d5\">\n",
              "    <div class=\"colab-df-container\">\n",
              "      <div>\n",
              "<style scoped>\n",
              "    .dataframe tbody tr th:only-of-type {\n",
              "        vertical-align: middle;\n",
              "    }\n",
              "\n",
              "    .dataframe tbody tr th {\n",
              "        vertical-align: top;\n",
              "    }\n",
              "\n",
              "    .dataframe thead th {\n",
              "        text-align: right;\n",
              "    }\n",
              "</style>\n",
              "<table border=\"1\" class=\"dataframe\">\n",
              "  <thead>\n",
              "    <tr style=\"text-align: right;\">\n",
              "      <th></th>\n",
              "      <th>SK_ID_PREV</th>\n",
              "      <th>SK_ID_CURR</th>\n",
              "      <th>MONTHS_BALANCE</th>\n",
              "      <th>CNT_INSTALMENT</th>\n",
              "      <th>CNT_INSTALMENT_FUTURE</th>\n",
              "      <th>SK_DPD</th>\n",
              "      <th>SK_DPD_DEF</th>\n",
              "    </tr>\n",
              "  </thead>\n",
              "  <tbody>\n",
              "    <tr>\n",
              "      <th>SK_ID_PREV</th>\n",
              "      <td>1.0</td>\n",
              "      <td>-0.0</td>\n",
              "      <td>0.00</td>\n",
              "      <td>0.00</td>\n",
              "      <td>0.00</td>\n",
              "      <td>-0.00</td>\n",
              "      <td>0.00</td>\n",
              "    </tr>\n",
              "    <tr>\n",
              "      <th>SK_ID_CURR</th>\n",
              "      <td>-0.0</td>\n",
              "      <td>1.0</td>\n",
              "      <td>0.00</td>\n",
              "      <td>0.00</td>\n",
              "      <td>-0.00</td>\n",
              "      <td>0.00</td>\n",
              "      <td>0.00</td>\n",
              "    </tr>\n",
              "    <tr>\n",
              "      <th>MONTHS_BALANCE</th>\n",
              "      <td>0.0</td>\n",
              "      <td>0.0</td>\n",
              "      <td>1.00</td>\n",
              "      <td>0.34</td>\n",
              "      <td>0.27</td>\n",
              "      <td>-0.02</td>\n",
              "      <td>-0.00</td>\n",
              "    </tr>\n",
              "    <tr>\n",
              "      <th>CNT_INSTALMENT</th>\n",
              "      <td>0.0</td>\n",
              "      <td>0.0</td>\n",
              "      <td>0.34</td>\n",
              "      <td>1.00</td>\n",
              "      <td>0.87</td>\n",
              "      <td>-0.06</td>\n",
              "      <td>-0.01</td>\n",
              "    </tr>\n",
              "    <tr>\n",
              "      <th>CNT_INSTALMENT_FUTURE</th>\n",
              "      <td>0.0</td>\n",
              "      <td>-0.0</td>\n",
              "      <td>0.27</td>\n",
              "      <td>0.87</td>\n",
              "      <td>1.00</td>\n",
              "      <td>-0.08</td>\n",
              "      <td>-0.02</td>\n",
              "    </tr>\n",
              "    <tr>\n",
              "      <th>SK_DPD</th>\n",
              "      <td>-0.0</td>\n",
              "      <td>0.0</td>\n",
              "      <td>-0.02</td>\n",
              "      <td>-0.06</td>\n",
              "      <td>-0.08</td>\n",
              "      <td>1.00</td>\n",
              "      <td>0.25</td>\n",
              "    </tr>\n",
              "    <tr>\n",
              "      <th>SK_DPD_DEF</th>\n",
              "      <td>0.0</td>\n",
              "      <td>0.0</td>\n",
              "      <td>-0.00</td>\n",
              "      <td>-0.01</td>\n",
              "      <td>-0.02</td>\n",
              "      <td>0.25</td>\n",
              "      <td>1.00</td>\n",
              "    </tr>\n",
              "  </tbody>\n",
              "</table>\n",
              "</div>\n",
              "      <button class=\"colab-df-convert\" onclick=\"convertToInteractive('df-e086c6b5-9f96-4247-9760-5826141064d5')\"\n",
              "              title=\"Convert this dataframe to an interactive table.\"\n",
              "              style=\"display:none;\">\n",
              "        \n",
              "  <svg xmlns=\"http://www.w3.org/2000/svg\" height=\"24px\"viewBox=\"0 0 24 24\"\n",
              "       width=\"24px\">\n",
              "    <path d=\"M0 0h24v24H0V0z\" fill=\"none\"/>\n",
              "    <path d=\"M18.56 5.44l.94 2.06.94-2.06 2.06-.94-2.06-.94-.94-2.06-.94 2.06-2.06.94zm-11 1L8.5 8.5l.94-2.06 2.06-.94-2.06-.94L8.5 2.5l-.94 2.06-2.06.94zm10 10l.94 2.06.94-2.06 2.06-.94-2.06-.94-.94-2.06-.94 2.06-2.06.94z\"/><path d=\"M17.41 7.96l-1.37-1.37c-.4-.4-.92-.59-1.43-.59-.52 0-1.04.2-1.43.59L10.3 9.45l-7.72 7.72c-.78.78-.78 2.05 0 2.83L4 21.41c.39.39.9.59 1.41.59.51 0 1.02-.2 1.41-.59l7.78-7.78 2.81-2.81c.8-.78.8-2.07 0-2.86zM5.41 20L4 18.59l7.72-7.72 1.47 1.35L5.41 20z\"/>\n",
              "  </svg>\n",
              "      </button>\n",
              "      \n",
              "  <style>\n",
              "    .colab-df-container {\n",
              "      display:flex;\n",
              "      flex-wrap:wrap;\n",
              "      gap: 12px;\n",
              "    }\n",
              "\n",
              "    .colab-df-convert {\n",
              "      background-color: #E8F0FE;\n",
              "      border: none;\n",
              "      border-radius: 50%;\n",
              "      cursor: pointer;\n",
              "      display: none;\n",
              "      fill: #1967D2;\n",
              "      height: 32px;\n",
              "      padding: 0 0 0 0;\n",
              "      width: 32px;\n",
              "    }\n",
              "\n",
              "    .colab-df-convert:hover {\n",
              "      background-color: #E2EBFA;\n",
              "      box-shadow: 0px 1px 2px rgba(60, 64, 67, 0.3), 0px 1px 3px 1px rgba(60, 64, 67, 0.15);\n",
              "      fill: #174EA6;\n",
              "    }\n",
              "\n",
              "    [theme=dark] .colab-df-convert {\n",
              "      background-color: #3B4455;\n",
              "      fill: #D2E3FC;\n",
              "    }\n",
              "\n",
              "    [theme=dark] .colab-df-convert:hover {\n",
              "      background-color: #434B5C;\n",
              "      box-shadow: 0px 1px 3px 1px rgba(0, 0, 0, 0.15);\n",
              "      filter: drop-shadow(0px 1px 2px rgba(0, 0, 0, 0.3));\n",
              "      fill: #FFFFFF;\n",
              "    }\n",
              "  </style>\n",
              "\n",
              "      <script>\n",
              "        const buttonEl =\n",
              "          document.querySelector('#df-e086c6b5-9f96-4247-9760-5826141064d5 button.colab-df-convert');\n",
              "        buttonEl.style.display =\n",
              "          google.colab.kernel.accessAllowed ? 'block' : 'none';\n",
              "\n",
              "        async function convertToInteractive(key) {\n",
              "          const element = document.querySelector('#df-e086c6b5-9f96-4247-9760-5826141064d5');\n",
              "          const dataTable =\n",
              "            await google.colab.kernel.invokeFunction('convertToInteractive',\n",
              "                                                     [key], {});\n",
              "          if (!dataTable) return;\n",
              "\n",
              "          const docLinkHtml = 'Like what you see? Visit the ' +\n",
              "            '<a target=\"_blank\" href=https://colab.research.google.com/notebooks/data_table.ipynb>data table notebook</a>'\n",
              "            + ' to learn more about interactive tables.';\n",
              "          element.innerHTML = '';\n",
              "          dataTable['output_type'] = 'display_data';\n",
              "          await google.colab.output.renderOutput(dataTable, element);\n",
              "          const docLink = document.createElement('div');\n",
              "          docLink.innerHTML = docLinkHtml;\n",
              "          element.appendChild(docLink);\n",
              "        }\n",
              "      </script>\n",
              "    </div>\n",
              "  </div>\n",
              "  "
            ],
            "text/plain": [
              "                       SK_ID_PREV  SK_ID_CURR  ...  SK_DPD  SK_DPD_DEF\n",
              "SK_ID_PREV                    1.0        -0.0  ...   -0.00        0.00\n",
              "SK_ID_CURR                   -0.0         1.0  ...    0.00        0.00\n",
              "MONTHS_BALANCE                0.0         0.0  ...   -0.02       -0.00\n",
              "CNT_INSTALMENT                0.0         0.0  ...   -0.06       -0.01\n",
              "CNT_INSTALMENT_FUTURE         0.0        -0.0  ...   -0.08       -0.02\n",
              "SK_DPD                       -0.0         0.0  ...    1.00        0.25\n",
              "SK_DPD_DEF                    0.0         0.0  ...    0.25        1.00\n",
              "\n",
              "[7 rows x 7 columns]"
            ]
          },
          "metadata": {},
          "execution_count": 44
        }
      ]
    },
    {
      "cell_type": "markdown",
      "source": [
        "CNT_INSTALMENT and CNT_INSTALMENT_FUTURE is the most positive correlated pair."
      ],
      "metadata": {
        "id": "tVnAHbGmglct"
      }
    },
    {
      "cell_type": "code",
      "source": [
        "home_credit_quant_df = home_credit_POS_CASH_balance[[\"SK_ID_PREV\", \"SK_ID_CURR\", \"MONTHS_BALANCE\", \"CNT_INSTALMENT\", \"CNT_INSTALMENT_FUTURE\", \"SK_DPD\", \"SK_DPD_DEF\"]].copy()"
      ],
      "metadata": {
        "id": "Nklg7GPPdm9m"
      },
      "execution_count": 46,
      "outputs": []
    },
    {
      "cell_type": "code",
      "source": [
        "# fig = plt.figure(figsize =(20, 20))\n",
        "# ax = sns.heatmap(home_credit_quant_df)"
      ],
      "metadata": {
        "id": "imdV5Sgugf7J"
      },
      "execution_count": null,
      "outputs": []
    },
    {
      "cell_type": "markdown",
      "source": [
        "### Box plot\n"
      ],
      "metadata": {
        "id": "bW3vY9YfZVJf"
      }
    },
    {
      "cell_type": "code",
      "source": [
        "fig = plt.figure(figsize =(20, 7))\n",
        "home_credit_POS_CASH_balance.boxplot(column=['CNT_INSTALMENT', 'CNT_INSTALMENT_FUTURE'], vert = 0)  "
      ],
      "metadata": {
        "colab": {
          "base_uri": "https://localhost:8080/",
          "height": 404
        },
        "id": "FrVExMUeBfgB",
        "outputId": "5a00d76a-c35e-4cf0-ea09-67d46c3dd772"
      },
      "execution_count": 64,
      "outputs": [
        {
          "output_type": "stream",
          "name": "stderr",
          "text": [
            "/usr/local/lib/python3.7/dist-packages/numpy/core/_asarray.py:83: VisibleDeprecationWarning: Creating an ndarray from ragged nested sequences (which is a list-or-tuple of lists-or-tuples-or ndarrays with different lengths or shapes) is deprecated. If you meant to do this, you must specify 'dtype=object' when creating the ndarray\n",
            "  return array(a, dtype, copy=False, order=order)\n"
          ]
        },
        {
          "output_type": "execute_result",
          "data": {
            "text/plain": [
              "<matplotlib.axes._subplots.AxesSubplot at 0x7fdaa2c72250>"
            ]
          },
          "metadata": {},
          "execution_count": 64
        },
        {
          "output_type": "display_data",
          "data": {
            "image/png": "[encoded data removed]",
            "text/plain": [
              "<Figure size 1440x504 with 1 Axes>"
            ]
          },
          "metadata": {
            "needs_background": "light"
          }
        }
      ]
    },
    {
      "cell_type": "markdown",
      "source": [
        "The Outliers (both min and max of outliers), Quantiles 1, 2, 3 of CNT_INSTALMENT are greater the ones of CNT_INSTALMENT_FUTURE.\n"
      ],
      "metadata": {
        "id": "ziTXW0Pfbc6m"
      }
    },
    {
      "cell_type": "code",
      "source": [
        "home_credit_POS_CASH_balance['CNT_INSTALMENT'].round(decimals = 3)\n",
        "home_credit_POS_CASH_balance['CNT_INSTALMENT_FUTURE'].round(decimals = 3)"
      ],
      "metadata": {
        "colab": {
          "base_uri": "https://localhost:8080/"
        },
        "id": "7QMS_3bRBfdw",
        "outputId": "ae26bb1b-f78d-44cb-81f1-d2f1d71198ce"
      },
      "execution_count": 65,
      "outputs": [
        {
          "output_type": "execute_result",
          "data": {
            "text/plain": [
              "0           45.0\n",
              "1           35.0\n",
              "2            9.0\n",
              "3           42.0\n",
              "4           35.0\n",
              "            ... \n",
              "10001353     0.0\n",
              "10001354     0.0\n",
              "10001355     0.0\n",
              "10001356     0.0\n",
              "10001357     0.0\n",
              "Name: CNT_INSTALMENT_FUTURE, Length: 10001358, dtype: float64"
            ]
          },
          "metadata": {},
          "execution_count": 65
        }
      ]
    },
    {
      "cell_type": "markdown",
      "source": [
        "### PCA for 2 variables"
      ],
      "metadata": {
        "id": "kOXA9HnBerF0"
      }
    },
    {
      "cell_type": "code",
      "source": [
        "home_credit_POS_CASH_balance.head(10)"
      ],
      "metadata": {
        "colab": {
          "base_uri": "https://localhost:8080/",
          "height": 407
        },
        "id": "qNgsXz0-J7g6",
        "outputId": "d0216211-6ab4-416b-ea9e-781e7d0049e7"
      },
      "execution_count": 67,
      "outputs": [
        {
          "output_type": "execute_result",
          "data": {
            "text/html": [
              "\n",
              "  <div id=\"df-7f37d716-2161-4927-ab1d-06f1cd1b877b\">\n",
              "    <div class=\"colab-df-container\">\n",
              "      <div>\n",
              "<style scoped>\n",
              "    .dataframe tbody tr th:only-of-type {\n",
              "        vertical-align: middle;\n",
              "    }\n",
              "\n",
              "    .dataframe tbody tr th {\n",
              "        vertical-align: top;\n",
              "    }\n",
              "\n",
              "    .dataframe thead th {\n",
              "        text-align: right;\n",
              "    }\n",
              "</style>\n",
              "<table border=\"1\" class=\"dataframe\">\n",
              "  <thead>\n",
              "    <tr style=\"text-align: right;\">\n",
              "      <th></th>\n",
              "      <th>SK_ID_PREV</th>\n",
              "      <th>SK_ID_CURR</th>\n",
              "      <th>MONTHS_BALANCE</th>\n",
              "      <th>CNT_INSTALMENT</th>\n",
              "      <th>CNT_INSTALMENT_FUTURE</th>\n",
              "      <th>NAME_CONTRACT_STATUS</th>\n",
              "      <th>SK_DPD</th>\n",
              "      <th>SK_DPD_DEF</th>\n",
              "    </tr>\n",
              "  </thead>\n",
              "  <tbody>\n",
              "    <tr>\n",
              "      <th>0</th>\n",
              "      <td>1803195</td>\n",
              "      <td>182943</td>\n",
              "      <td>-31</td>\n",
              "      <td>48.0</td>\n",
              "      <td>45.0</td>\n",
              "      <td>Active</td>\n",
              "      <td>0</td>\n",
              "      <td>0</td>\n",
              "    </tr>\n",
              "    <tr>\n",
              "      <th>1</th>\n",
              "      <td>1715348</td>\n",
              "      <td>367990</td>\n",
              "      <td>-33</td>\n",
              "      <td>36.0</td>\n",
              "      <td>35.0</td>\n",
              "      <td>Active</td>\n",
              "      <td>0</td>\n",
              "      <td>0</td>\n",
              "    </tr>\n",
              "    <tr>\n",
              "      <th>2</th>\n",
              "      <td>1784872</td>\n",
              "      <td>397406</td>\n",
              "      <td>-32</td>\n",
              "      <td>12.0</td>\n",
              "      <td>9.0</td>\n",
              "      <td>Active</td>\n",
              "      <td>0</td>\n",
              "      <td>0</td>\n",
              "    </tr>\n",
              "    <tr>\n",
              "      <th>3</th>\n",
              "      <td>1903291</td>\n",
              "      <td>269225</td>\n",
              "      <td>-35</td>\n",
              "      <td>48.0</td>\n",
              "      <td>42.0</td>\n",
              "      <td>Active</td>\n",
              "      <td>0</td>\n",
              "      <td>0</td>\n",
              "    </tr>\n",
              "    <tr>\n",
              "      <th>4</th>\n",
              "      <td>2341044</td>\n",
              "      <td>334279</td>\n",
              "      <td>-35</td>\n",
              "      <td>36.0</td>\n",
              "      <td>35.0</td>\n",
              "      <td>Active</td>\n",
              "      <td>0</td>\n",
              "      <td>0</td>\n",
              "    </tr>\n",
              "    <tr>\n",
              "      <th>5</th>\n",
              "      <td>2207092</td>\n",
              "      <td>342166</td>\n",
              "      <td>-32</td>\n",
              "      <td>12.0</td>\n",
              "      <td>12.0</td>\n",
              "      <td>Active</td>\n",
              "      <td>0</td>\n",
              "      <td>0</td>\n",
              "    </tr>\n",
              "    <tr>\n",
              "      <th>6</th>\n",
              "      <td>1110516</td>\n",
              "      <td>204376</td>\n",
              "      <td>-38</td>\n",
              "      <td>48.0</td>\n",
              "      <td>43.0</td>\n",
              "      <td>Active</td>\n",
              "      <td>0</td>\n",
              "      <td>0</td>\n",
              "    </tr>\n",
              "    <tr>\n",
              "      <th>7</th>\n",
              "      <td>1387235</td>\n",
              "      <td>153211</td>\n",
              "      <td>-35</td>\n",
              "      <td>36.0</td>\n",
              "      <td>36.0</td>\n",
              "      <td>Active</td>\n",
              "      <td>0</td>\n",
              "      <td>0</td>\n",
              "    </tr>\n",
              "    <tr>\n",
              "      <th>8</th>\n",
              "      <td>1220500</td>\n",
              "      <td>112740</td>\n",
              "      <td>-31</td>\n",
              "      <td>12.0</td>\n",
              "      <td>12.0</td>\n",
              "      <td>Active</td>\n",
              "      <td>0</td>\n",
              "      <td>0</td>\n",
              "    </tr>\n",
              "    <tr>\n",
              "      <th>9</th>\n",
              "      <td>2371489</td>\n",
              "      <td>274851</td>\n",
              "      <td>-32</td>\n",
              "      <td>24.0</td>\n",
              "      <td>16.0</td>\n",
              "      <td>Active</td>\n",
              "      <td>0</td>\n",
              "      <td>0</td>\n",
              "    </tr>\n",
              "  </tbody>\n",
              "</table>\n",
              "</div>\n",
              "      <button class=\"colab-df-convert\" onclick=\"convertToInteractive('df-7f37d716-2161-4927-ab1d-06f1cd1b877b')\"\n",
              "              title=\"Convert this dataframe to an interactive table.\"\n",
              "              style=\"display:none;\">\n",
              "        \n",
              "  <svg xmlns=\"http://www.w3.org/2000/svg\" height=\"24px\"viewBox=\"0 0 24 24\"\n",
              "       width=\"24px\">\n",
              "    <path d=\"M0 0h24v24H0V0z\" fill=\"none\"/>\n",
              "    <path d=\"M18.56 5.44l.94 2.06.94-2.06 2.06-.94-2.06-.94-.94-2.06-.94 2.06-2.06.94zm-11 1L8.5 8.5l.94-2.06 2.06-.94-2.06-.94L8.5 2.5l-.94 2.06-2.06.94zm10 10l.94 2.06.94-2.06 2.06-.94-2.06-.94-.94-2.06-.94 2.06-2.06.94z\"/><path d=\"M17.41 7.96l-1.37-1.37c-.4-.4-.92-.59-1.43-.59-.52 0-1.04.2-1.43.59L10.3 9.45l-7.72 7.72c-.78.78-.78 2.05 0 2.83L4 21.41c.39.39.9.59 1.41.59.51 0 1.02-.2 1.41-.59l7.78-7.78 2.81-2.81c.8-.78.8-2.07 0-2.86zM5.41 20L4 18.59l7.72-7.72 1.47 1.35L5.41 20z\"/>\n",
              "  </svg>\n",
              "      </button>\n",
              "      \n",
              "  <style>\n",
              "    .colab-df-container {\n",
              "      display:flex;\n",
              "      flex-wrap:wrap;\n",
              "      gap: 12px;\n",
              "    }\n",
              "\n",
              "    .colab-df-convert {\n",
              "      background-color: #E8F0FE;\n",
              "      border: none;\n",
              "      border-radius: 50%;\n",
              "      cursor: pointer;\n",
              "      display: none;\n",
              "      fill: #1967D2;\n",
              "      height: 32px;\n",
              "      padding: 0 0 0 0;\n",
              "      width: 32px;\n",
              "    }\n",
              "\n",
              "    .colab-df-convert:hover {\n",
              "      background-color: #E2EBFA;\n",
              "      box-shadow: 0px 1px 2px rgba(60, 64, 67, 0.3), 0px 1px 3px 1px rgba(60, 64, 67, 0.15);\n",
              "      fill: #174EA6;\n",
              "    }\n",
              "\n",
              "    [theme=dark] .colab-df-convert {\n",
              "      background-color: #3B4455;\n",
              "      fill: #D2E3FC;\n",
              "    }\n",
              "\n",
              "    [theme=dark] .colab-df-convert:hover {\n",
              "      background-color: #434B5C;\n",
              "      box-shadow: 0px 1px 3px 1px rgba(0, 0, 0, 0.15);\n",
              "      filter: drop-shadow(0px 1px 2px rgba(0, 0, 0, 0.3));\n",
              "      fill: #FFFFFF;\n",
              "    }\n",
              "  </style>\n",
              "\n",
              "      <script>\n",
              "        const buttonEl =\n",
              "          document.querySelector('#df-7f37d716-2161-4927-ab1d-06f1cd1b877b button.colab-df-convert');\n",
              "        buttonEl.style.display =\n",
              "          google.colab.kernel.accessAllowed ? 'block' : 'none';\n",
              "\n",
              "        async function convertToInteractive(key) {\n",
              "          const element = document.querySelector('#df-7f37d716-2161-4927-ab1d-06f1cd1b877b');\n",
              "          const dataTable =\n",
              "            await google.colab.kernel.invokeFunction('convertToInteractive',\n",
              "                                                     [key], {});\n",
              "          if (!dataTable) return;\n",
              "\n",
              "          const docLinkHtml = 'Like what you see? Visit the ' +\n",
              "            '<a target=\"_blank\" href=https://colab.research.google.com/notebooks/data_table.ipynb>data table notebook</a>'\n",
              "            + ' to learn more about interactive tables.';\n",
              "          element.innerHTML = '';\n",
              "          dataTable['output_type'] = 'display_data';\n",
              "          await google.colab.output.renderOutput(dataTable, element);\n",
              "          const docLink = document.createElement('div');\n",
              "          docLink.innerHTML = docLinkHtml;\n",
              "          element.appendChild(docLink);\n",
              "        }\n",
              "      </script>\n",
              "    </div>\n",
              "  </div>\n",
              "  "
            ],
            "text/plain": [
              "   SK_ID_PREV  SK_ID_CURR  ...  SK_DPD  SK_DPD_DEF\n",
              "0     1803195      182943  ...       0           0\n",
              "1     1715348      367990  ...       0           0\n",
              "2     1784872      397406  ...       0           0\n",
              "3     1903291      269225  ...       0           0\n",
              "4     2341044      334279  ...       0           0\n",
              "5     2207092      342166  ...       0           0\n",
              "6     1110516      204376  ...       0           0\n",
              "7     1387235      153211  ...       0           0\n",
              "8     1220500      112740  ...       0           0\n",
              "9     2371489      274851  ...       0           0\n",
              "\n",
              "[10 rows x 8 columns]"
            ]
          },
          "metadata": {},
          "execution_count": 67
        }
      ]
    },
    {
      "cell_type": "code",
      "source": [
        "home_credit_POS_CASH_balance.fillna(0)"
      ],
      "metadata": {
        "colab": {
          "base_uri": "https://localhost:8080/",
          "height": 487
        },
        "id": "s3GGGEQDKwf_",
        "outputId": "fe531d0d-0bfd-4011-88b6-5eda02aacb62"
      },
      "execution_count": 77,
      "outputs": [
        {
          "output_type": "execute_result",
          "data": {
            "text/html": [
              "\n",
              "  <div id=\"df-2eba497c-cfa4-419c-8aa3-475c3c4d9c80\">\n",
              "    <div class=\"colab-df-container\">\n",
              "      <div>\n",
              "<style scoped>\n",
              "    .dataframe tbody tr th:only-of-type {\n",
              "        vertical-align: middle;\n",
              "    }\n",
              "\n",
              "    .dataframe tbody tr th {\n",
              "        vertical-align: top;\n",
              "    }\n",
              "\n",
              "    .dataframe thead th {\n",
              "        text-align: right;\n",
              "    }\n",
              "</style>\n",
              "<table border=\"1\" class=\"dataframe\">\n",
              "  <thead>\n",
              "    <tr style=\"text-align: right;\">\n",
              "      <th></th>\n",
              "      <th>SK_ID_PREV</th>\n",
              "      <th>SK_ID_CURR</th>\n",
              "      <th>MONTHS_BALANCE</th>\n",
              "      <th>CNT_INSTALMENT</th>\n",
              "      <th>CNT_INSTALMENT_FUTURE</th>\n",
              "      <th>NAME_CONTRACT_STATUS</th>\n",
              "      <th>SK_DPD</th>\n",
              "      <th>SK_DPD_DEF</th>\n",
              "    </tr>\n",
              "  </thead>\n",
              "  <tbody>\n",
              "    <tr>\n",
              "      <th>0</th>\n",
              "      <td>1803195</td>\n",
              "      <td>182943</td>\n",
              "      <td>-31</td>\n",
              "      <td>48.0</td>\n",
              "      <td>45.0</td>\n",
              "      <td>Active</td>\n",
              "      <td>0</td>\n",
              "      <td>0</td>\n",
              "    </tr>\n",
              "    <tr>\n",
              "      <th>1</th>\n",
              "      <td>1715348</td>\n",
              "      <td>367990</td>\n",
              "      <td>-33</td>\n",
              "      <td>36.0</td>\n",
              "      <td>35.0</td>\n",
              "      <td>Active</td>\n",
              "      <td>0</td>\n",
              "      <td>0</td>\n",
              "    </tr>\n",
              "    <tr>\n",
              "      <th>2</th>\n",
              "      <td>1784872</td>\n",
              "      <td>397406</td>\n",
              "      <td>-32</td>\n",
              "      <td>12.0</td>\n",
              "      <td>9.0</td>\n",
              "      <td>Active</td>\n",
              "      <td>0</td>\n",
              "      <td>0</td>\n",
              "    </tr>\n",
              "    <tr>\n",
              "      <th>3</th>\n",
              "      <td>1903291</td>\n",
              "      <td>269225</td>\n",
              "      <td>-35</td>\n",
              "      <td>48.0</td>\n",
              "      <td>42.0</td>\n",
              "      <td>Active</td>\n",
              "      <td>0</td>\n",
              "      <td>0</td>\n",
              "    </tr>\n",
              "    <tr>\n",
              "      <th>4</th>\n",
              "      <td>2341044</td>\n",
              "      <td>334279</td>\n",
              "      <td>-35</td>\n",
              "      <td>36.0</td>\n",
              "      <td>35.0</td>\n",
              "      <td>Active</td>\n",
              "      <td>0</td>\n",
              "      <td>0</td>\n",
              "    </tr>\n",
              "    <tr>\n",
              "      <th>...</th>\n",
              "      <td>...</td>\n",
              "      <td>...</td>\n",
              "      <td>...</td>\n",
              "      <td>...</td>\n",
              "      <td>...</td>\n",
              "      <td>...</td>\n",
              "      <td>...</td>\n",
              "      <td>...</td>\n",
              "    </tr>\n",
              "    <tr>\n",
              "      <th>10001353</th>\n",
              "      <td>2448283</td>\n",
              "      <td>226558</td>\n",
              "      <td>-20</td>\n",
              "      <td>6.0</td>\n",
              "      <td>0.0</td>\n",
              "      <td>Active</td>\n",
              "      <td>843</td>\n",
              "      <td>0</td>\n",
              "    </tr>\n",
              "    <tr>\n",
              "      <th>10001354</th>\n",
              "      <td>1717234</td>\n",
              "      <td>141565</td>\n",
              "      <td>-19</td>\n",
              "      <td>12.0</td>\n",
              "      <td>0.0</td>\n",
              "      <td>Active</td>\n",
              "      <td>602</td>\n",
              "      <td>0</td>\n",
              "    </tr>\n",
              "    <tr>\n",
              "      <th>10001355</th>\n",
              "      <td>1283126</td>\n",
              "      <td>315695</td>\n",
              "      <td>-21</td>\n",
              "      <td>10.0</td>\n",
              "      <td>0.0</td>\n",
              "      <td>Active</td>\n",
              "      <td>609</td>\n",
              "      <td>0</td>\n",
              "    </tr>\n",
              "    <tr>\n",
              "      <th>10001356</th>\n",
              "      <td>1082516</td>\n",
              "      <td>450255</td>\n",
              "      <td>-22</td>\n",
              "      <td>12.0</td>\n",
              "      <td>0.0</td>\n",
              "      <td>Active</td>\n",
              "      <td>614</td>\n",
              "      <td>0</td>\n",
              "    </tr>\n",
              "    <tr>\n",
              "      <th>10001357</th>\n",
              "      <td>1259607</td>\n",
              "      <td>174278</td>\n",
              "      <td>-52</td>\n",
              "      <td>16.0</td>\n",
              "      <td>0.0</td>\n",
              "      <td>Completed</td>\n",
              "      <td>0</td>\n",
              "      <td>0</td>\n",
              "    </tr>\n",
              "  </tbody>\n",
              "</table>\n",
              "<p>10001358 rows × 8 columns</p>\n",
              "</div>\n",
              "      <button class=\"colab-df-convert\" onclick=\"convertToInteractive('df-2eba497c-cfa4-419c-8aa3-475c3c4d9c80')\"\n",
              "              title=\"Convert this dataframe to an interactive table.\"\n",
              "              style=\"display:none;\">\n",
              "        \n",
              "  <svg xmlns=\"http://www.w3.org/2000/svg\" height=\"24px\"viewBox=\"0 0 24 24\"\n",
              "       width=\"24px\">\n",
              "    <path d=\"M0 0h24v24H0V0z\" fill=\"none\"/>\n",
              "    <path d=\"M18.56 5.44l.94 2.06.94-2.06 2.06-.94-2.06-.94-.94-2.06-.94 2.06-2.06.94zm-11 1L8.5 8.5l.94-2.06 2.06-.94-2.06-.94L8.5 2.5l-.94 2.06-2.06.94zm10 10l.94 2.06.94-2.06 2.06-.94-2.06-.94-.94-2.06-.94 2.06-2.06.94z\"/><path d=\"M17.41 7.96l-1.37-1.37c-.4-.4-.92-.59-1.43-.59-.52 0-1.04.2-1.43.59L10.3 9.45l-7.72 7.72c-.78.78-.78 2.05 0 2.83L4 21.41c.39.39.9.59 1.41.59.51 0 1.02-.2 1.41-.59l7.78-7.78 2.81-2.81c.8-.78.8-2.07 0-2.86zM5.41 20L4 18.59l7.72-7.72 1.47 1.35L5.41 20z\"/>\n",
              "  </svg>\n",
              "      </button>\n",
              "      \n",
              "  <style>\n",
              "    .colab-df-container {\n",
              "      display:flex;\n",
              "      flex-wrap:wrap;\n",
              "      gap: 12px;\n",
              "    }\n",
              "\n",
              "    .colab-df-convert {\n",
              "      background-color: #E8F0FE;\n",
              "      border: none;\n",
              "      border-radius: 50%;\n",
              "      cursor: pointer;\n",
              "      display: none;\n",
              "      fill: #1967D2;\n",
              "      height: 32px;\n",
              "      padding: 0 0 0 0;\n",
              "      width: 32px;\n",
              "    }\n",
              "\n",
              "    .colab-df-convert:hover {\n",
              "      background-color: #E2EBFA;\n",
              "      box-shadow: 0px 1px 2px rgba(60, 64, 67, 0.3), 0px 1px 3px 1px rgba(60, 64, 67, 0.15);\n",
              "      fill: #174EA6;\n",
              "    }\n",
              "\n",
              "    [theme=dark] .colab-df-convert {\n",
              "      background-color: #3B4455;\n",
              "      fill: #D2E3FC;\n",
              "    }\n",
              "\n",
              "    [theme=dark] .colab-df-convert:hover {\n",
              "      background-color: #434B5C;\n",
              "      box-shadow: 0px 1px 3px 1px rgba(0, 0, 0, 0.15);\n",
              "      filter: drop-shadow(0px 1px 2px rgba(0, 0, 0, 0.3));\n",
              "      fill: #FFFFFF;\n",
              "    }\n",
              "  </style>\n",
              "\n",
              "      <script>\n",
              "        const buttonEl =\n",
              "          document.querySelector('#df-2eba497c-cfa4-419c-8aa3-475c3c4d9c80 button.colab-df-convert');\n",
              "        buttonEl.style.display =\n",
              "          google.colab.kernel.accessAllowed ? 'block' : 'none';\n",
              "\n",
              "        async function convertToInteractive(key) {\n",
              "          const element = document.querySelector('#df-2eba497c-cfa4-419c-8aa3-475c3c4d9c80');\n",
              "          const dataTable =\n",
              "            await google.colab.kernel.invokeFunction('convertToInteractive',\n",
              "                                                     [key], {});\n",
              "          if (!dataTable) return;\n",
              "\n",
              "          const docLinkHtml = 'Like what you see? Visit the ' +\n",
              "            '<a target=\"_blank\" href=https://colab.research.google.com/notebooks/data_table.ipynb>data table notebook</a>'\n",
              "            + ' to learn more about interactive tables.';\n",
              "          element.innerHTML = '';\n",
              "          dataTable['output_type'] = 'display_data';\n",
              "          await google.colab.output.renderOutput(dataTable, element);\n",
              "          const docLink = document.createElement('div');\n",
              "          docLink.innerHTML = docLinkHtml;\n",
              "          element.appendChild(docLink);\n",
              "        }\n",
              "      </script>\n",
              "    </div>\n",
              "  </div>\n",
              "  "
            ],
            "text/plain": [
              "          SK_ID_PREV  SK_ID_CURR  ...  SK_DPD  SK_DPD_DEF\n",
              "0            1803195      182943  ...       0           0\n",
              "1            1715348      367990  ...       0           0\n",
              "2            1784872      397406  ...       0           0\n",
              "3            1903291      269225  ...       0           0\n",
              "4            2341044      334279  ...       0           0\n",
              "...              ...         ...  ...     ...         ...\n",
              "10001353     2448283      226558  ...     843           0\n",
              "10001354     1717234      141565  ...     602           0\n",
              "10001355     1283126      315695  ...     609           0\n",
              "10001356     1082516      450255  ...     614           0\n",
              "10001357     1259607      174278  ...       0           0\n",
              "\n",
              "[10001358 rows x 8 columns]"
            ]
          },
          "metadata": {},
          "execution_count": 77
        }
      ]
    },
    {
      "cell_type": "code",
      "source": [
        "home_credit_POS_CASH_balance['CNT_INSTALMENT'] = home_credit_POS_CASH_balance['CNT_INSTALMENT'].astype(np.float64)"
      ],
      "metadata": {
        "id": "iX1M4pdTMavZ"
      },
      "execution_count": 73,
      "outputs": []
    },
    {
      "cell_type": "code",
      "source": [
        "home_credit_POS_CASH_balance['CNT_INSTALMENT_FUTURE'] = home_credit_POS_CASH_balance['CNT_INSTALMENT_FUTURE'].astype(np.float64)"
      ],
      "metadata": {
        "id": "9FQhYiF-MhuR"
      },
      "execution_count": 74,
      "outputs": []
    },
    {
      "cell_type": "code",
      "source": [
        "import numpy as np\n",
        "from sklearn.decomposition import PCA\n",
        "\n",
        "pcs = PCA(n_components=2)\n",
        "pcs.fit(home_credit_POS_CASH_balance[['CNT_INSTALMENT', 'CNT_INSTALMENT_FUTURE']])"
      ],
      "metadata": {
        "id": "0RLn9D0yBfYu"
      },
      "execution_count": null,
      "outputs": []
    },
    {
      "cell_type": "code",
      "source": [
        ""
      ],
      "metadata": {
        "id": "KYuvEpf5BfVm"
      },
      "execution_count": null,
      "outputs": []
    },
    {
      "cell_type": "code",
      "source": [
        "# # Assign data into bins [0,10] using the method pd.cut. Default\n",
        "# # creates a categorical variable, e.g. (6,7]. labels=False determines\n",
        "# # integers instead, e.g. 6.\n",
        "# home_credit_POS_CASH_balance['RM_bin'] = pd.cut(home_credit_POS_CASH_balance.RM, range(0, 10), labels=False)\n",
        "# print(home_credit_POS_CASH_balance['RM_bin'].head(9), home_credit_POS_CASH_balance['RM'].head(9))"
      ],
      "metadata": {
        "id": "9e1hAjTVBfS9"
      },
      "execution_count": null,
      "outputs": []
    }
  ]
}